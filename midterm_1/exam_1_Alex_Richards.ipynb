{
 "cells": [
  {
   "cell_type": "markdown",
   "metadata": {
    "deletable": true,
    "editable": true
   },
   "source": [
    "# Import libraries"
   ]
  },
  {
   "cell_type": "code",
   "execution_count": 1,
   "metadata": {
    "collapsed": false,
    "deletable": true,
    "editable": true
   },
   "outputs": [],
   "source": [
    "import matplotlib.pyplot as plt\n",
    "%matplotlib inline\n",
    "%config InlineBackend.print_figure_kwargs={'bbox_inches':'tight'}\n",
    "plt.rcParams[\"figure.figsize\"] = [15, 8]\n",
    "import numpy as np\n",
    "from numpy.random import uniform, seed\n",
    "import pandas as pd\n",
    "from time import time\n",
    "import warnings\n",
    "warnings.filterwarnings(\"ignore\", category=DeprecationWarning) "
   ]
  },
  {
   "cell_type": "markdown",
   "metadata": {
    "deletable": true,
    "editable": true
   },
   "source": [
    "# 1. (40 pts) Define functions\n",
    "### Define the following functions"
   ]
  },
  {
   "cell_type": "code",
   "execution_count": 2,
   "metadata": {
    "collapsed": false,
    "deletable": true,
    "editable": true
   },
   "outputs": [],
   "source": [
    "def one_hot_encode(labels):\n",
    "    \"\"\"\n",
    "        Turn single digit numerical value classes into length 10 vectors...\n",
    "        1 for the positive class and 0's for the other 9 negative classes.\n",
    "    \"\"\"\n",
    "    \n",
    "    min_l, max_l = min(labels), max(labels)\n",
    "    one_hot_map = {k: [0 if i < k else 1 if i == k else 0 \\\n",
    "                              for i in range(min_l, max_l+1)] \\\n",
    "                      for k in range(min_l, max_l+1)}\n",
    "    \n",
    "    return np.array([one_hot_map[label[0]] for label in labels]).reshape(-1, 10)\n",
    "    \n",
    "def sigmoid(z):\n",
    "    \"\"\"\n",
    "        Squishes the output of our hypothesis function into the range (0, 1).\n",
    "    \"\"\"\n",
    "    \n",
    "    z = z.clip(min=-500, max=500)\n",
    "    exp = np.exp(z)\n",
    "    return exp/(exp+1)\n",
    "\n",
    "def tanh(z):\n",
    "    \"\"\"\n",
    "        Squishes the output of our hypothesis function into the range(-1, 1).\n",
    "    \"\"\"\n",
    "    \n",
    "    return 2*sigmoid(2*z) - 1\n",
    "\n",
    "def relu(z):\n",
    "    \"\"\"\n",
    "        Rectified Linear Unit.\n",
    "    \"\"\"\n",
    "    \n",
    "    return np.where(z>0, z, 0)\n",
    "\n",
    "def lrelu(z):\n",
    "    \"\"\"\n",
    "        Leaky Rectified Linear Unit.\n",
    "    \"\"\"\n",
    "\n",
    "    return np.where(z>0, z, 0.01*z)\n",
    "    \n",
    "def elu(z):\n",
    "    \"\"\"\n",
    "        Exponential Linear Unit.\n",
    "    \"\"\"\n",
    "    \n",
    "    z = z.clip(min=-500, max=500)\n",
    "    alpha = 1\n",
    "    return np.where(z>0, z, alpha*(np.exp(z) - 1)) \n",
    "    \n",
    "def softmax(z):\n",
    "    \"\"\"\n",
    "        Produce confidence probabilities for the output classes.\n",
    "    \"\"\"\n",
    "\n",
    "    z = z.clip(min=-500, max=500)\n",
    "    exp = np.exp(z)\n",
    "    return exp/exp.sum(axis=1).reshape(-1, 1)\n",
    "    \n",
    "def eval_softmax(weights, data, labels, activation):\n",
    "    \"\"\"\n",
    "        Convert softmax activations into well-defined outputs; evaluate accuracy using labels.\n",
    "    \"\"\"\n",
    "    \n",
    "    net = {'weights': weights}\n",
    "    s_max = softmax(forward(net, data, activation))\n",
    "\n",
    "    # Apply mask to accentuate softmax output\n",
    "    test_mask = np.where(s_max == s_max.max(axis=1).reshape(-1, 1), 1, 0)\n",
    "\n",
    "    return sum([1 if (test_mask[i]==l).all() else 0 for i, l in enumerate(labels)])/float(len(labels))*100\n",
    "    \n",
    "def log_loss(output, labels, regularization=None, reg_lambda=None):\n",
    "    \"\"\"\n",
    "        Computes the log loss when provided with the output from the final activation layer\n",
    "        and the corresponding labeled data.\n",
    "    \"\"\"\n",
    "    \n",
    "    output = output.clip(min=1e-10, max=0.9999999999)\n",
    "    \n",
    "    cost = (-1./labels.shape[0]) * np.sum(np.multiply(labels, np.log(output)) + np.multiply((1-labels), np.log(1-output)))\n",
    "    if regularization == 'l2':\n",
    "        cost += (reg_lambda/2.) * (np.sum(np.square(W1)) + np.sum(np.square(W2)) + np.sum(np.square(W3)))\n",
    "    elif regularization == 'l1':\n",
    "        cost += (reg_lambda/2.) * (np.sum(np.absolute(W1)) + np.sum(np.absolute(W2)) + np.sum(np.absolute(W3)))\n",
    "    elif regularization == 'elastic':\n",
    "        pass\n",
    "    elif regularization != None:\n",
    "        print 'Unrecognized regularization term'\n",
    "    \n",
    "    return cost\n",
    "    \n",
    "def forward(net, X, activation):\n",
    "    \"\"\"\n",
    "        Perform forward propagation through our neural network. Apply sigmoid to \n",
    "        pre-activation signals.\n",
    "    \"\"\"\n",
    "    \n",
    "    # Retrieve weights from the network and reinitialize the cached activations\n",
    "    W1 = net['weights'][0]\n",
    "    W2 = net['weights'][1]\n",
    "    W3 = net['weights'][2]\n",
    "    net['activations'] = []\n",
    "                   \n",
    "    # Perform forward pass while appyling bias terms to the input and a1 layers\n",
    "    X_bias = np.concatenate((X, np.ones((X.shape[0], 1))), axis=1)  \n",
    "    a1 = activation(np.dot(W1, X_bias.T))\n",
    "    a1_bias = np.concatenate((a1, np.ones((1, X.shape[0]))), axis=0) \n",
    "    a2 = activation(np.dot(W2, a1_bias))\n",
    "    a2_bias = np.concatenate((a2, np.ones((1, X.shape[0]))), axis=0)\n",
    "    a3 = sigmoid(np.dot(W3, a2_bias)).T\n",
    "    \n",
    "    # Cache input data and activations\n",
    "    net['input'] = X  \n",
    "    net['activations'].append(a1)\n",
    "    net['activations'].append(a2)\n",
    "    net['activations'].append(a3)\n",
    "                    \n",
    "    return a3\n",
    "    \n",
    "def backward(net, labels, activation, reg_lambda=0):\n",
    "    \"\"\"\n",
    "        Perform back propagation through our neural network. Compute error derivatives\n",
    "        w.r.t. parameter and bias weights.\n",
    "    \"\"\"\n",
    "    \n",
    "    # Retrieve input data, cached activations, and weights from the network\n",
    "    X = net['input']\n",
    "    a1 = net['activations'][0]\n",
    "    a2 = net['activations'][1]\n",
    "    a3 = net['activations'][2]\n",
    "    W1 = net['weights'][0][:, :-1]\n",
    "    W2 = net['weights'][1][:, :-1]\n",
    "    W3 = net['weights'][2][:, :-1]\n",
    "\n",
    "    # Compute loss function derivatives w.r.t. parameters and biases\n",
    "    m = (1./X.shape[0])\n",
    "    dL_da3 = (a3-labels)\n",
    "    dL_dW3 = m * np.dot(a2, dL_da3).T + m * reg_lambda * W3\n",
    "    dL_db3 = m * np.sum(dL_da3, axis=0, keepdims=True).T\n",
    "    dL_da2 = np.dot(dL_da3, W3).T\n",
    "\n",
    "    activation_func = str(activation).split()[1]    \n",
    "    if activation_func == 'sigmoid':\n",
    "        dL_dz2 = np.multiply(dL_da2, (a2 * (1-a2)))\n",
    "        dL_dz1 = np.multiply(np.dot(dL_dz2.T, W2).T, (a1 *(1-a1)))\n",
    "    elif activation_func == 'tanh':\n",
    "        dL_dz2 = np.multiply(dL_da2, (1 - np.square(a2))) \n",
    "        dL_dz1 = np.multiply(np.dot(dL_dz2.T, W2).T, (1 - np.square(a1)))\n",
    "    elif activation_func == 'relu':\n",
    "        dL_dz2 = np.multiply(dL_da2, np.where(a2>0, 1, 0))\n",
    "        dL_dz1 = np.multiply(np.dot(dL_dz2.T, W2).T, np.where(a1>0, 1, 0))\n",
    "    elif activation_func == 'lrelu':\n",
    "        dL_dz2 = np.multiply(dL_da2, np.where(a2>0, 1, 0.01)) \n",
    "        dL_dz1 = np.multiply(np.dot(dL_dz2.T, W2).T, np.where(a1>0, 1, 0.01))\n",
    "    elif activation_func == 'elu':\n",
    "        alpha = 1\n",
    "        dL_dz2 = np.multiply(dL_da2, np.where(a2>0, 1, alpha*np.exp(a2)))\n",
    "        dL_dz1 = np.multiply(np.dot(dL_dz2.T, W2).T, np.where(a1>0, 1, alpha*np.exp(a1)))\n",
    "    else:\n",
    "        raise 'Unrecognized activation function'\n",
    "        \n",
    "    dL_dW2 = m * np.dot(dL_dz2, a1.T) + m * reg_lambda * W2\n",
    "    dL_db2 = m * np.sum(dL_dz2, axis=1, keepdims=True)\n",
    "    dL_dW1 = m * np.dot(dL_dz1, X) + m * reg_lambda * W1\n",
    "    dL_db1 = m * np.sum(dL_dz1, axis=1, keepdims=True)  \n",
    "    \n",
    "    return dL_dW1, dL_db1, dL_dW2, dL_db2, dL_dW3, dL_db3\n",
    "        \n",
    "###\n",
    "last_gradients, mew = None, 0.6\n",
    "###\n",
    "def gradient_descent(net, X, labels, alpha, iters, suppress_output=False, activation=sigmoid, regularization=None, reg_lambda=0.1):\n",
    "    \"\"\"\n",
    "        Use loss function derivatives w.r.t weights to continually improve the\n",
    "        performace of our network.\n",
    "    \"\"\"\n",
    "      \n",
    "    def update_weights(weights, gradients):\n",
    "        W1, b1 = weights[0][:, :-1], weights[0][:, -1].reshape(-1, 1)\n",
    "        W2, b2 = weights[1][:, :-1], weights[1][:, -1].reshape(-1, 1)\n",
    "        W3, b3 = weights[2][:, :-1], weights[2][:, -1].reshape(-1, 1)\n",
    "     \n",
    "        global last_gradients, mew\n",
    "        last_gradients = [np.copy(g) for g in gradients]\n",
    "        \n",
    "        W1 -= alpha * (gradients[0] + reg_lambda * W1) + mew * last_gradients[0]\n",
    "        W2 -= alpha * (gradients[2] + reg_lambda * W2) + mew * last_gradients[2]\n",
    "        W3 -= alpha * (gradients[4] + reg_lambda * W3) + mew * last_gradients[4]\n",
    "        b1 -= alpha * gradients[1] + mew * last_gradients[1]\n",
    "        b2 -= alpha * gradients[3] + mew * last_gradients[3]\n",
    "        b3 -= alpha * gradients[5] + mew * last_gradients[5]\n",
    "        \n",
    "    new_cost, old_cost = log_loss(forward(net, X, activation), labels, regularization, reg_lambda), float('inf')    \n",
    "    beginning = start = time()\n",
    "    count = 0\n",
    "    \n",
    "    if not suppress_output:\n",
    "        print 'Initial cost:', new_cost\n",
    "\n",
    "    results = []\n",
    "    while count < max(iters):\n",
    "        update_weights(net['weights'], backward(net, labels, activation, reg_lambda))\n",
    "        old_cost = new_cost\n",
    "        new_cost = log_loss(forward(net, X, activation), labels, regularization, reg_lambda)\n",
    "        if count in iters:\n",
    "            elapsed = time() - beginning\n",
    "            print str(count) + ': ' + str(round(elapsed, 2)) + ' ',\n",
    "            train_loss = new_cost\n",
    "            net_copy = {'weights': [np.copy(w) for w in net['weights']], 'activations': []}\n",
    "            test_loss = log_loss(forward(net_copy, x_test, activation), y_test, regularization, reg_lambda)\n",
    "            results.append((train_loss, test_loss, elapsed, net_copy['weights']))\n",
    "        if not suppress_output:\n",
    "            if time() - start > 10:\n",
    "                print '\\t', new_cost\n",
    "            start = time()\n",
    "        count += 1\n",
    "    print max(iters),\n",
    "    \n",
    "    elapsed = time() - beginning\n",
    "    train_loss = old_cost\n",
    "    test_loss = log_loss(forward(net, x_test, activation), y_test, regularization, reg_lambda)\n",
    "    results.append((train_loss, test_loss, elapsed, [np.copy(w) for w in net['weights']]))\n",
    "        \n",
    "    if not suppress_output:\n",
    "        print 'Model has a log loss of {}\\n\\tachieved in {} iterations in {} seconds with a learning rate of {}'.format(\n",
    "                train_loss, max(iters), elapsed, alpha)\n",
    "    \n",
    "    return results"
   ]
  },
  {
   "cell_type": "markdown",
   "metadata": {
    "deletable": true,
    "editable": true
   },
   "source": [
    "# 2. (5 pts) Split data\n",
    "### Split training and testing data into x and y sets. Input has columns from 0 to 399 and ouput has a column 'y'"
   ]
  },
  {
   "cell_type": "code",
   "execution_count": 3,
   "metadata": {
    "collapsed": false,
    "deletable": true,
    "editable": true
   },
   "outputs": [],
   "source": [
    "train = pd.read_csv('exam1_train.csv', index_col=0)\n",
    "test = pd.read_csv('exam1_test.csv', index_col=0)\n",
    "\n",
    "x_train = train.iloc[:, :-1].as_matrix()\n",
    "x_test = test.iloc[:, :-1].as_matrix()\n",
    "\n",
    "# One hot encode labels\n",
    "y_train = one_hot_encode(train.iloc[:, -1].values.reshape(-1, 1))\n",
    "y_test = one_hot_encode(test.iloc[:, -1].values.reshape(-1, 1))"
   ]
  },
  {
   "cell_type": "markdown",
   "metadata": {
    "deletable": true,
    "editable": true
   },
   "source": [
    "# 3. (5 pts) Initialize parameters\n",
    "### Use np.random.seed(1) when initializing weight coefficients. Set bias terms to 0."
   ]
  },
  {
   "cell_type": "code",
   "execution_count": 4,
   "metadata": {
    "collapsed": false,
    "deletable": true,
    "editable": true
   },
   "outputs": [],
   "source": [
    "# Form weight matrices by concatenating zeroed bias weights to randomly initialized parameter weights\n",
    "seed(1); W1_init = np.concatenate((uniform(-.1, .1, (75, x_train.shape[1])), np.zeros((75, 1))), axis=1)\n",
    "seed(1); W2_init = np.concatenate((uniform(-.1, .1, (75, 75)), np.zeros((75, 1))), axis=1)\n",
    "seed(1); W3_init = np.concatenate((uniform(-.1, .1, (y_train.shape[1], 75)), np.zeros((y_train.shape[1], 1))), axis=1)\n",
    "W1 = np.copy(W1_init)\n",
    "W2 = np.copy(W2_init)\n",
    "W3 = np.copy(W3_init)"
   ]
  },
  {
   "cell_type": "markdown",
   "metadata": {
    "deletable": true,
    "editable": true
   },
   "source": [
    "# 4. (20 pts) Neural network model with one hidden layer\n",
    "### Build a neural network model, using the training set, with an input layer of 400 neurons, two or more hidden layers with any number of neurons, and an output layer of 10 neurons."
   ]
  },
  {
   "cell_type": "code",
   "execution_count": 5,
   "metadata": {
    "collapsed": false,
    "deletable": true,
    "editable": true,
    "scrolled": true
   },
   "outputs": [
    {
     "name": "stdout",
     "output_type": "stream",
     "text": [
      "Initial cost: 7.0961633211\n",
      "50 Model has a log loss of 3.3015278387\n",
      "\tachieved in 50 iterations in 2.53707003593 seconds with a learning rate of 1\n"
     ]
    }
   ],
   "source": [
    "net = {'weights': [W1, W2, W3],\n",
    "       'activations': []\n",
    "      }\n",
    "\n",
    "results = gradient_descent(net, x_train, y_train, alpha=1, iters=[50], activation=sigmoid)"
   ]
  },
  {
   "cell_type": "markdown",
   "metadata": {
    "deletable": true,
    "editable": true
   },
   "source": [
    "# 5. (10 pts) Predictions\n",
    "### Predict digits using the softmax function. Calculate the accuracy of the predictions using both the training and testing data."
   ]
  },
  {
   "cell_type": "code",
   "execution_count": 6,
   "metadata": {
    "collapsed": false,
    "deletable": true,
    "editable": true
   },
   "outputs": [
    {
     "name": "stdout",
     "output_type": "stream",
     "text": [
      "Training score: 10.51\n",
      "Testing score: 8.8\n"
     ]
    }
   ],
   "source": [
    "train_max = softmax(forward(net, x_train, sigmoid))\n",
    "test_max = softmax(forward(net, x_test, sigmoid))\n",
    "\n",
    "# Apply mask to accentuate softmax output\n",
    "train_mask = np.where(train_max == train_max.max(axis=1).reshape(-1, 1), 1, 0)\n",
    "test_mask =  np.where(test_max == test_max.max(axis=1).reshape(-1, 1), 1, 0)\n",
    "\n",
    "train_score = sum([1 if (train_mask[i]==l).all() else 0 for i, l in enumerate(y_train)])/float(len(y_train))*100\n",
    "test_score = sum([1 if (test_mask[i]==l).all() else 0 for i, l in enumerate(y_test)])/float(len(y_test))*100\n",
    "        \n",
    "print 'Training score: {}\\nTesting score: {}'.format(round(train_score, 2), round(test_score, 2))"
   ]
  },
  {
   "cell_type": "markdown",
   "metadata": {
    "deletable": true,
    "editable": true
   },
   "source": [
    "# 6. (20 pts) Optimization\n",
    "### Optimize the model using a variety of learning rates and number of iterations."
   ]
  },
  {
   "cell_type": "code",
   "execution_count": 7,
   "metadata": {
    "collapsed": false,
    "deletable": true,
    "editable": true,
    "scrolled": true
   },
   "outputs": [
    {
     "name": "stdout",
     "output_type": "stream",
     "text": [
      "Training with a learning rate of 0.046\n",
      "\trelu activation function for iterations:\n",
      "\t\t0: 0.07  500: 22.8  1000: 48.1  1500: 74.59  2000: 100.89  2500: 126.39  3000: 151.92  3500: 180.61  4000: 221.55  4500: 254.26  5000: 285.29  5500\n",
      "Training took 310.810983896 seconds\n",
      "Done.\n"
     ]
    }
   ],
   "source": [
    "models = []\n",
    "learning_rates = [0.046]\n",
    "count, step_size = 5500, 500\n",
    "num_iters = list(range(0, count+1, step_size))\n",
    "activations = [relu]\n",
    "regularization = 'l2'\n",
    "reg_lambda = 0.0035\n",
    "\n",
    "# Train a bunch of models\n",
    "the_start = time()\n",
    "for lr in learning_rates:\n",
    "    print 'Training with a learning rate of {}'.format(lr)\n",
    "    for a in activations:\n",
    "        print '\\t{} activation function for iterations:\\n\\t\\t'.format(str(a).split()[1]),\n",
    "        net['weights'][0], net['weights'][1], net['weights'][2] = np.copy(W1_init), np.copy(W2_init), np.copy(W3_init)\n",
    "        results = gradient_descent(net, x_train, y_train, alpha=lr, iters=num_iters, suppress_output=True,\n",
    "                                   activation=a, regularization=regularization, reg_lambda=reg_lambda)\n",
    "        \n",
    "        for i, r in enumerate(results):\n",
    "            models.append({\n",
    "                'train_loss': results[i][0],\n",
    "                'test_loss': results[i][1],\n",
    "                'time': results[i][2],\n",
    "                'alpha': lr,\n",
    "                'iters': num_iters[i],\n",
    "                'weights': results[i][3],\n",
    "                'activation': a\n",
    "            })\n",
    "        print\n",
    "print 'Training took {} seconds'.format(time() - the_start)\n",
    "print 'Done.'"
   ]
  },
  {
   "cell_type": "markdown",
   "metadata": {
    "deletable": true,
    "editable": true
   },
   "source": [
    "### Plot the cost over the number of iterations with different learning rates for the training set."
   ]
  },
  {
   "cell_type": "code",
   "execution_count": 8,
   "metadata": {
    "collapsed": false,
    "deletable": true,
    "editable": true
   },
   "outputs": [
    {
     "data": {
      "text/plain": [
       "<matplotlib.text.Text at 0x7fe2b6ae99d0>"
      ]
     },
     "execution_count": 8,
     "metadata": {},
     "output_type": "execute_result"
    },
    {
     "data": {
      "image/png": "[encoded data removed]",
      "text/plain": [
       "<matplotlib.figure.Figure at 0x7fe2b6b2f3d0>"
      ]
     },
     "metadata": {},
     "output_type": "display_data"
    }
   ],
   "source": [
    "chart_colors = ['#3366CC', '#DC3912', '#FF9900', '#109618', '#990099',\n",
    "                '#3B3EAC', '#0099C6', '#DD4477', '#66AA00']\n",
    "chart_markers = [\"o\", \"x\", \"s\", \">\", \"D\"]\n",
    "\n",
    "# Organize `loss over # iterations` plot lines for learning rates\n",
    "data = {a:\n",
    "            {lr: \n",
    "                sorted(list(filter(lambda x: x['alpha'] == lr and x['activation'] == a, models)),\n",
    "                        key=lambda x: x['iters'])\n",
    "            for lr in learning_rates}\n",
    "        for a in activations\n",
    "}\n",
    "\n",
    "# Create plot lines for learning rates and annotate with training times\n",
    "lines = []\n",
    "for i, (a, _) in enumerate(data.items()):\n",
    "    seq = []\n",
    "    for j, (lr, d) in enumerate(_.items()):\n",
    "        evals = [x['train_loss'] for x in d]\n",
    "        times = [x['time'] for x in d]\n",
    "        seq.append(plt.plot(num_iters, evals, label=str(lr), color=chart_colors[j], marker=chart_markers[i])[0])\n",
    "        for k, t in enumerate(times):\n",
    "            plt.annotate(str(round(t, 2)), (num_iters[k], evals[k]))\n",
    "    lines.append(seq)\n",
    "   \n",
    "# Format plot\n",
    "legend1 = plt.legend(lines[0], learning_rates, loc=1, title='Learning rates')\n",
    "plt.legend([l[0] for l in lines], [str(a).split()[1] for a in activations], loc=2, title='Activations')\n",
    "plt.gca().add_artist(legend1)\n",
    "plt.xlabel('Number of iterations')\n",
    "plt.ylabel('Training loss')\n",
    "plt.title('Loss with Annotated Training Times')"
   ]
  },
  {
   "cell_type": "markdown",
   "metadata": {
    "deletable": true,
    "editable": true
   },
   "source": [
    "### Print the optimized accuracy for the test set. Plot train & test lost and train & test accuracy."
   ]
  },
  {
   "cell_type": "code",
   "execution_count": 9,
   "metadata": {
    "collapsed": false,
    "deletable": true,
    "editable": true
   },
   "outputs": [
    {
     "name": "stdout",
     "output_type": "stream",
     "text": [
      "\t# iterations | train accuracy | test accuracy\n",
      "Activation: relu\n",
      "\tLearning rate: 0.046\n",
      "\t\t\t0  \t  11.66 \t  11.20\n",
      "\t\t\t500  \t  99.91 \t  93.27\n",
      "\t\t\t1000  \t  100.00 \t  93.53\n",
      "\t\t\t1500  \t  100.00 \t  93.60\n",
      "\t\t\t2000  \t  100.00 \t  93.80\n",
      "\t\t\t2500  \t  100.00 \t  93.93\n",
      "\t\t\t3000  \t  100.00 \t  94.00\n",
      "\t\t\t3500  \t  100.00 \t  94.13\n",
      "\t\t\t4000  \t  100.00 \t  94.20\n",
      "\t\t\t4500  \t  100.00 \t  94.20\n",
      "\t\t\t5000  \t  100.00 \t  94.20\n",
      "\t\t\t5500  \t  100.00 \t  94.20\n",
      "The best model:\n",
      "\tActivation: relu\n",
      "\tLearning rate: 0.046\n",
      "\t# of iterations: 4000\n",
      "\tTraining time: 221.54541111\n",
      "\tTraining loss: 0.03176593\n",
      "\tTest loss: 0.51418899\n",
      "\tTraining accuracy: 100.0\n",
      "\tTest accuracy: 94.2\n",
      "\n"
     ]
    },
    {
     "data": {
      "text/plain": [
       "<matplotlib.text.Text at 0x7fe2b6902650>"
      ]
     },
     "execution_count": 9,
     "metadata": {},
     "output_type": "execute_result"
    },
    {
     "data": {
      "image/png": "[encoded data removed]",
      "text/plain": [
       "<matplotlib.figure.Figure at 0x7fe2b69fadd0>"
      ]
     },
     "metadata": {},
     "output_type": "display_data"
    }
   ],
   "source": [
    "# Print the train and test accuracy for every combination of alpha and # of iterations\n",
    "models_with_evals = []\n",
    "print '\\t# iterations | train accuracy | test accuracy'        \n",
    "for a, _ in data.items():\n",
    "    print 'Activation:', str(a).split()[1]\n",
    "    for lr, dat in _.items():\n",
    "        print '\\tLearning rate:', lr\n",
    "        for d in dat:\n",
    "            train_score = eval_softmax(d['weights'], x_train, y_train, a)\n",
    "            test_score = eval_softmax(d['weights'], x_test, y_test, a)\n",
    "            models_with_evals.append((train_score, test_score, d, dat, a))\n",
    "            print '\\t\\t\\t{}  \\t  {:.2f} \\t  {:.2f}'.format(d['iters'], round(train_score, 2), round(test_score, 2))\n",
    "\n",
    "# Print details about the model with the highest test accuracy\n",
    "best = max(models_with_evals, key=lambda x: x[1])\n",
    "print 'The best model:\\n\\tActivation: {}\\n\\tLearning rate: {}\\n\\t# of iterations: {}\\n\\tTraining time: {}\\n\\tTraining loss: {}\\n\\tTest loss: {}\\n\\tTraining accuracy: {}\\n\\tTest accuracy: {}\\n'.format(\n",
    "    str(best[-1]).split()[1], best[2]['alpha'], best[2]['iters'], *[round(b, 8) for b in [best[2]['time'], best[2]['train_loss'], best[2]['test_loss'], best[0], best[1]]]\n",
    ") \n",
    "\n",
    "# Create plot data for train/test loss/accuracy of the best model\n",
    "train_scores, train_losses, test_scores, test_losses = [], [], [], []\n",
    "for d in best[-2]:\n",
    "        train_scores.append(eval_softmax(d['weights'], x_train, y_train, best[-1]))\n",
    "        test_scores.append(eval_softmax(d['weights'], x_test, y_test, best[-1]))\n",
    "        train_losses.append(d['train_loss'])\n",
    "        test_losses.append(d['test_loss'])\n",
    "\n",
    "# Plot the train/test loss for the best model\n",
    "plt.subplot(121)\n",
    "lines = []\n",
    "for d in [train_losses, test_losses]:\n",
    "    lines.append(plt.plot(num_iters, d)[0])\n",
    "plt.legend(lines, ['Train', 'Test'], title='Dataset')  \n",
    "plt.xlabel('Number of iterations')\n",
    "plt.ylabel('Loss')\n",
    "plt.title('Loss for Train and Test Set on Best Model')\n",
    "\n",
    "# Plot the train/test accuracy for the best model\n",
    "plt.subplot(122)\n",
    "lines = []\n",
    "for d in [train_scores, test_scores]:\n",
    "    lines.append(plt.plot(num_iters, d)[0])\n",
    "plt.legend(lines, ['Train', 'Test'], title='Dataset', bbox_to_anchor=(0.26, 1))  \n",
    "plt.xlabel('Number of iterations')\n",
    "plt.ylabel('Accuracy')\n",
    "plt.title('Accuracy for Train and Test Set on Best Model')"
   ]
  }
 ],
 "metadata": {
  "kernelspec": {
   "display_name": "Python 2",
   "language": "python",
   "name": "python2"
  },
  "language_info": {
   "codemirror_mode": {
    "name": "ipython",
    "version": 2
   },
   "file_extension": ".py",
   "mimetype": "text/x-python",
   "name": "python",
   "nbconvert_exporter": "python",
   "pygments_lexer": "ipython2",
   "version": "2.7.6"
  }
 },
 "nbformat": 4,
 "nbformat_minor": 2
}
