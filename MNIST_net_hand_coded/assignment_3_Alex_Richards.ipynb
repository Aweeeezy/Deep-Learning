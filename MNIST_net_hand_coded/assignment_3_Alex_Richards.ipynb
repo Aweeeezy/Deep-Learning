{
 "cells": [
  {
   "cell_type": "markdown",
   "metadata": {
    "deletable": true,
    "editable": true
   },
   "source": [
    "# Import libraries"
   ]
  },
  {
   "cell_type": "code",
   "execution_count": 1,
   "metadata": {
    "collapsed": false,
    "deletable": true,
    "editable": true
   },
   "outputs": [],
   "source": [
    "%matplotlib inline\n",
    "%config InlineBackend.print_figure_kwargs={'bbox_inches':'tight'}\n",
    "import matplotlib.pyplot as plt\n",
    "import numpy as np\n",
    "from numpy.random import uniform, seed\n",
    "import pandas as pd\n",
    "from time import time\n",
    "import warnings\n",
    "warnings.filterwarnings(\"ignore\", category=DeprecationWarning) "
   ]
  },
  {
   "cell_type": "markdown",
   "metadata": {
    "deletable": true,
    "editable": true
   },
   "source": [
    "# 1. (40 pts) Define functions\n",
    "### Define the following functions"
   ]
  },
  {
   "cell_type": "code",
   "execution_count": 2,
   "metadata": {
    "collapsed": false,
    "deletable": true,
    "editable": true
   },
   "outputs": [],
   "source": [
    "def one_hot_encode(labels):\n",
    "    \"\"\"\n",
    "        Turn single digit numerical value classes into length 10 vectors...\n",
    "        1 for the positive class and 0's for the other 9 negative classes.\n",
    "    \"\"\"\n",
    "    \n",
    "    min_l, max_l = min(labels), max(labels)\n",
    "    one_hot_map = {k: [0 if i < k else 1 if i == k else 0 \\\n",
    "                              for i in range(min_l, max_l+1)] \\\n",
    "                      for k in range(min_l, max_l+1)}\n",
    "    \n",
    "    return np.matrix([one_hot_map[label[0]] for label in labels]).reshape(-1, 10)\n",
    "    \n",
    "def sigmoid(z):\n",
    "    \"\"\"\n",
    "        Squishes the output of our hypothesis function into the range (0, 1).\n",
    "    \"\"\"\n",
    "       \n",
    "    clipped = np.clip(z, -500, 500)   # Clip input to sigmoid to prevent overflow\n",
    "    exp = np.exp(clipped)\n",
    "    return exp/(exp+1)\n",
    "\n",
    "def softmax(z):\n",
    "    \"\"\"\n",
    "        Produce confidence probabilities for the output classes.\n",
    "    \"\"\"\n",
    "\n",
    "    clipped = np.clip(z, -500, 500)   # Clip input to sigmoid to prevent overflow\n",
    "    exp = np.exp(clipped)\n",
    "    return exp/exp.sum(axis=1).reshape(-1, 1)\n",
    "    \n",
    "def eval_softmax(weights, data, labels):\n",
    "    \"\"\"\n",
    "        Convert softmax activations into well-defined outputs; evaluate accuracy using labels.\n",
    "    \"\"\"\n",
    "    \n",
    "    net = {'weights': weights}\n",
    "    s_max = softmax(forward(net, x_test))\n",
    "\n",
    "    # Apply mask to accentuate softmax output\n",
    "    test_mask = np.where(s_max == s_max.max(axis=1).reshape(-1, 1), 1, 0)\n",
    "\n",
    "    return sum([1 if (test_mask[i]==l).all() else 0 for i, l in enumerate(y_test)])/len(y_test)*100\n",
    "    \n",
    "def log_loss(output, labels):\n",
    "    \"\"\"\n",
    "        Computes the multi-class log loss when provided with the output from the softmax\n",
    "        group and the corresponding labeled data\n",
    "    \"\"\"\n",
    "    \n",
    "    output = output.clip(min=1e-5, max=0.99999)\n",
    "    \n",
    "    return (-1/labels.shape[0]) * np.sum(np.multiply(labels, np.log(output)) + np.multiply((1-labels), np.log(1-output)))\n",
    "    \n",
    "def forward(net, X):\n",
    "    \"\"\"\n",
    "        Perform forward propagation through our neural network. Apply sigmoid to\n",
    "        the first weighted sum; apply softmax to the second weighted sum.\n",
    "    \"\"\"\n",
    "    \n",
    "    # Retrieve weights from the network and reinitialize the cached activations\n",
    "    W1 = net['weights'][0]\n",
    "    W2 = net['weights'][1]\n",
    "    net['activations'] = []\n",
    "           \n",
    "    # Perform forward pass while appyling bias terms to the input and a1 layers\n",
    "    X_bias = np.concatenate((X, np.ones((X.shape[0], 1))), axis=1)   \n",
    "    a1 = sigmoid(np.dot(W1, X_bias.T))                              \n",
    "    a1_bias = np.concatenate((a1, np.ones((1, X.shape[0]))), axis=0) \n",
    "    a2 = sigmoid(np.dot(W2, a1_bias)).T    \n",
    "    \n",
    "    # Cache input data and activations\n",
    "    net['input'] = X  \n",
    "    net['activations'].append(a1)\n",
    "    net['activations'].append(a2)\n",
    "                \n",
    "    return a2\n",
    "    \n",
    "def backward(net, labels):\n",
    "    \"\"\"\n",
    "        Perform back propagation through our neural network. Compute error derivatives\n",
    "        w.r.t. weights.\n",
    "    \"\"\"\n",
    "    \n",
    "    # Retrieve input data, cached activations, and weights from the network\n",
    "    X = net['input']\n",
    "    a1 = net['activations'][0]\n",
    "    a2 = net['activations'][1]\n",
    "    W1 = net['weights'][0][:, :-1]\n",
    "    W2 = net['weights'][1][:, :-1]\n",
    "\n",
    "    # Compute loss function derivatives w.r.t. parameters and biases\n",
    "    dL_dW2 = (1/X.shape[0]) * np.dot(a1, (a2-labels)).T\n",
    "    dL_db2 = (1/X.shape[0]) * np.sum((a2-labels), axis=0, keepdims=True).T\n",
    "    dL_dW1 = (1/X.shape[0]) * np.dot(np.multiply(np.dot((a2-labels), W2).T, (a1 * (1-a1))), X)\n",
    "    dL_db1 = (1/X.shape[0]) * np.sum(np.multiply(np.dot((a2-labels), W2).T, (a1 * (1-a1))), axis=1, keepdims=True)   \n",
    "        \n",
    "    return dL_dW1, dL_db1, dL_dW2, dL_db2\n",
    "        \n",
    "def gradient_descent(net, X, labels, alpha, iters, suppress_output=False):\n",
    "    \"\"\"\n",
    "        Use loss function derivatives w.r.t weights to continually improve the\n",
    "        performace of our network.\n",
    "    \"\"\"\n",
    "      \n",
    "    def update_weights(weights, gradients):\n",
    "        W1, b1 = weights[0][:, :-1], weights[0][:, -1].reshape(-1, 1)\n",
    "        W2, b2 = weights[1][:, :-1], weights[1][:, -1].reshape(-1, 1)\n",
    "        \n",
    "        W1 -= alpha * gradients[0]\n",
    "        b1 -= alpha * gradients[1]\n",
    "        W2 -= alpha * gradients[2]\n",
    "        b2 -= alpha * gradients[3]  \n",
    "        \n",
    "    new_cost, old_cost = log_loss(forward(net, X), labels), float('inf')    \n",
    "    beginning = start = time()\n",
    "    count = 0\n",
    "    \n",
    "    if not suppress_output:\n",
    "        print('Initial cost:', new_cost)\n",
    "    \n",
    "    while count < iters:\n",
    "        update_weights(net['weights'], backward(net, labels))\n",
    "        old_cost = new_cost\n",
    "        new_cost = log_loss(forward(net, X), labels)\n",
    "        if not suppress_output:\n",
    "            if time() - start > 10:\n",
    "                print('\\t', new_cost)\n",
    "            start = time()\n",
    "        count += 1\n",
    "            \n",
    "    elapsed = time() - beginning\n",
    "    train_eval = old_cost\n",
    "        \n",
    "    if not suppress_output:\n",
    "        print('Model has a log loss of {}\\n\\tachieved in {} iterations in {} seconds with a learning rate of {}'.format(\n",
    "                train_eval, iters, elapsed, alpha))\n",
    "    \n",
    "    return (train_eval, elapsed)"
   ]
  },
  {
   "cell_type": "markdown",
   "metadata": {
    "deletable": true,
    "editable": true
   },
   "source": [
    "# 2. (5 pts) Split data\n",
    "### Split training and testing data into x and y sets. Input has columns from 0 to 399 and ouput has a column 'y'"
   ]
  },
  {
   "cell_type": "code",
   "execution_count": 3,
   "metadata": {
    "collapsed": false,
    "deletable": true,
    "editable": true
   },
   "outputs": [
    {
     "name": "stderr",
     "output_type": "stream",
     "text": [
      "/usr/local/lib/python3.4/dist-packages/ipykernel/__main__.py:8: VisibleDeprecationWarning: converting an array with ndim > 0 to an index will result in an error in the future\n"
     ]
    }
   ],
   "source": [
    "train = pd.read_csv('ex3_train.csv')\n",
    "test = pd.read_csv('ex3_test.csv')\n",
    "\n",
    "x_train = train.iloc[:, :-1].as_matrix()\n",
    "x_test = test.iloc[:, :-1].as_matrix()\n",
    "\n",
    "# One hot encode labels\n",
    "y_train = one_hot_encode(train.iloc[:, -1].values.reshape(-1, 1))\n",
    "y_test = one_hot_encode(test.iloc[:, -1].values.reshape(-1, 1))"
   ]
  },
  {
   "cell_type": "markdown",
   "metadata": {
    "deletable": true,
    "editable": true
   },
   "source": [
    "# 3. (5 pts) Initialize parameters\n",
    "### Use np.random.seed(1) when initializing weight coefficients. Set bias terms to 0."
   ]
  },
  {
   "cell_type": "code",
   "execution_count": 4,
   "metadata": {
    "collapsed": false,
    "deletable": true,
    "editable": true
   },
   "outputs": [],
   "source": [
    "# Form weight matrices by concatenating zeroed bias weights to randomly initialized parameter weights\n",
    "seed(1); W1_init = np.concatenate((uniform(-1, 1, (25, x_train.shape[1])), np.zeros((25, 1))), axis=1)\n",
    "seed(1); W2_init = np.concatenate((uniform(-1, 1, (y_train.shape[1], 25)), np.zeros((y_train.shape[1], 1))), axis=1)\n",
    "W1 = np.copy(W1_init)\n",
    "W2 = np.copy(W2_init)"
   ]
  },
  {
   "cell_type": "markdown",
   "metadata": {
    "deletable": true,
    "editable": true
   },
   "source": [
    "# 4. (20 pts) Neural network model with one hidden layer\n",
    "### Build a neural network model, using the training set, with an input layer of 400 neurons, one hidden layer of 25 neurons, and an output layer of 10 neurons."
   ]
  },
  {
   "cell_type": "code",
   "execution_count": 5,
   "metadata": {
    "collapsed": false,
    "deletable": true,
    "editable": true,
    "scrolled": true
   },
   "outputs": [
    {
     "name": "stdout",
     "output_type": "stream",
     "text": [
      "Initial cost: 10.86632526\n",
      "Model has a log loss of 1.2151037946339445\n",
      "\tachieved in 100 iterations in 2.7116799354553223 seconds with a learning rate of 1\n"
     ]
    }
   ],
   "source": [
    "net = {'weights': [W1, W2],\n",
    "       'activations': []\n",
    "      }\n",
    "\n",
    "score, elapsed_time = gradient_descent(net, x_train, y_train, alpha=1, iters=100)"
   ]
  },
  {
   "cell_type": "markdown",
   "metadata": {
    "deletable": true,
    "editable": true
   },
   "source": [
    "# 5. (10 pts) Predictions\n",
    "### Predict digits using the softmax function. Calculate the accuracy of the predictions using both the training and testing data."
   ]
  },
  {
   "cell_type": "code",
   "execution_count": 6,
   "metadata": {
    "collapsed": false,
    "deletable": true,
    "editable": true
   },
   "outputs": [
    {
     "name": "stdout",
     "output_type": "stream",
     "text": [
      "Training score: 83.37\n",
      "Testing score: 82.07\n"
     ]
    }
   ],
   "source": [
    "train_max = softmax(forward(net, x_train))\n",
    "test_max = softmax(forward(net, x_test))\n",
    "\n",
    "# Apply mask to accentuate softmax output\n",
    "train_mask = np.where(train_max == train_max.max(axis=1).reshape(-1, 1), 1, 0)\n",
    "test_mask =  np.where(test_max == test_max.max(axis=1).reshape(-1, 1), 1, 0)\n",
    "\n",
    "train_score = sum([1 if (train_mask[i]==l).all() else 0 for i, l in enumerate(y_train)])/len(y_train)*100\n",
    "test_score = sum([1 if (test_mask[i]==l).all() else 0 for i, l in enumerate(y_test)])/len(y_test)*100\n",
    "        \n",
    "print('Training score: {}\\nTesting score: {}'.format(round(train_score, 2), round(test_score, 2)))"
   ]
  },
  {
   "cell_type": "markdown",
   "metadata": {
    "deletable": true,
    "editable": true
   },
   "source": [
    "# 6. (20 pts) Optimization\n",
    "### Optimize the model using a variety of learning rates and number of iterations."
   ]
  },
  {
   "cell_type": "code",
   "execution_count": 7,
   "metadata": {
    "collapsed": false,
    "deletable": true,
    "editable": true
   },
   "outputs": [
    {
     "name": "stdout",
     "output_type": "stream",
     "text": [
      "Training models with a learning rate of 10 for iterations:\n",
      "\t 50  100  250  500  1000  5000  \n",
      "Training models with a learning rate of 1 for iterations:\n",
      "\t 50  100  250  500  1000  5000  \n",
      "Training models with a learning rate of 0.1 for iterations:\n",
      "\t 50  100  250  500  1000  5000  \n",
      "Done.\n"
     ]
    }
   ],
   "source": [
    "models = []\n",
    "learning_rates = [10, 1, 0.1]\n",
    "num_iters = [50, 100, 250, 500, 1000, 5000]\n",
    "\n",
    "# Train a bunch of models\n",
    "for a in learning_rates:\n",
    "    print('Training models with a learning rate of {} for iterations:\\n\\t'.format(a), end=' ')\n",
    "    for i in num_iters:\n",
    "        print(i, end='  ')\n",
    "        net['weights'][0], net['weights'][1] = np.copy(W1_init), np.copy(W2_init)\n",
    "        l, t = gradient_descent(net, x_train, y_train, alpha=a, iters=i, suppress_output=True)\n",
    "        models.append({\n",
    "            'loss': l,\n",
    "            'time': t,\n",
    "            'alpha': a,\n",
    "            'iters': i,\n",
    "            'weights': [np.copy(w) for w in net['weights']]\n",
    "        })\n",
    "    print()\n",
    "print('Done.')"
   ]
  },
  {
   "cell_type": "markdown",
   "metadata": {
    "deletable": true,
    "editable": true
   },
   "source": [
    "### Plot the cost over the number of iterations with different learning rates for the training set."
   ]
  },
  {
   "cell_type": "code",
   "execution_count": 8,
   "metadata": {
    "collapsed": false,
    "deletable": true,
    "editable": true
   },
   "outputs": [
    {
     "data": {
      "text/plain": [
       "<matplotlib.text.Text at 0x7fd3e7290630>"
      ]
     },
     "execution_count": 8,
     "metadata": {},
     "output_type": "execute_result"
    },
    {
     "data": {
      "image/png": "[encoded data removed]",
      "text/plain": [
       "<matplotlib.figure.Figure at 0x7fd4086e2f60>"
      ]
     },
     "metadata": {},
     "output_type": "display_data"
    }
   ],
   "source": [
    "# Organize `loss over # iterations` plot lines for learning rates\n",
    "data = {\n",
    "    lr: \n",
    "        sorted(list(filter(lambda x: x['alpha'] == lr, models)), key=lambda x: x['iters'])\n",
    "    for lr in learning_rates\n",
    "}\n",
    "\n",
    "# Create plot lines for learning rates and annotate with training times\n",
    "lines = []\n",
    "for lr, d in data.items():\n",
    "    evals = [x['loss'] for x in d]\n",
    "    times = [x['time'] for x in d]\n",
    "    lines.append(plt.plot(num_iters, evals, label=str(lr))[0])\n",
    "    for i, t in enumerate(times):\n",
    "        plt.annotate(str(round(t, 2)), (num_iters[i], evals[i]))\n",
    "\n",
    "# Format plot\n",
    "plt.legend(lines, learning_rates, title='Learning rates')  \n",
    "plt.xlabel('Number of iterations')\n",
    "plt.ylabel('Training score')\n",
    "plt.title('Model Loss with Annotated Training Times')"
   ]
  },
  {
   "cell_type": "markdown",
   "metadata": {
    "deletable": true,
    "editable": true
   },
   "source": [
    "### Print the optimized accuracy for the test set."
   ]
  },
  {
   "cell_type": "code",
   "execution_count": 10,
   "metadata": {
    "collapsed": false,
    "deletable": true,
    "editable": true
   },
   "outputs": [
    {
     "name": "stdout",
     "output_type": "stream",
     "text": [
      "Learning rate: 0.1\n",
      "\tTest accuracy by # of iterations:\n",
      "\t\t50: 22.13\n",
      "\t\t100: 34.73\n",
      "\t\t250: 61.4\n",
      "\t\t500: 75.67\n",
      "\t\t1000: 83.13\n",
      "\t\t5000: 89.8\n",
      "Learning rate: 1\n",
      "\tTest accuracy by # of iterations:\n",
      "\t\t50: 74.6\n",
      "\t\t100: 82.07\n",
      "\t\t250: 87.53\n",
      "\t\t500: 89.8\n",
      "\t\t1000: 91.2\n",
      "\t\t5000: 92.33\n",
      "Learning rate: 10\n",
      "\tTest accuracy by # of iterations:\n",
      "\t\t50: 28.6\n",
      "\t\t100: 40.73\n",
      "\t\t250: 69.2\n",
      "\t\t500: 80.47\n",
      "\t\t1000: 87.47\n",
      "\t\t5000: 87.33\n",
      "The best model:\n",
      "\tLearning rate: 1\n",
      "\t# of iterations: 5000\n",
      "\tTraining time: 138.44\n",
      "\tTraining loss: 0.07\n",
      "\tTest accuracy: 92.33\n",
      "\n"
     ]
    }
   ],
   "source": [
    "models_with_evals = []\n",
    "for lr, dat in data.items():\n",
    "    print('Learning rate: {}\\n\\tTest accuracy by # of iterations:'.format(lr))\n",
    "    for d in dat:\n",
    "        score = eval_softmax(d['weights'], x_test, y_test)\n",
    "        models_with_evals.append((score, d))\n",
    "        print('\\t\\t{}: {}'.format(d['iters'], round(score, 2)))\n",
    "        \n",
    "best = max(models_with_evals, key=lambda x: x[0])\n",
    "print('The best model:\\n\\tLearning rate: {}\\n\\t# of iterations: {}\\n\\tTraining time: {}\\n\\tTraining loss: {}\\n\\tTest accuracy: {}\\n'.format(\n",
    "    best[1]['alpha'], best[1]['iters'], *[round(b, 2) for b in [best[1]['time'], best[1]['loss'], best[0]]]\n",
    "))"
   ]
  }
 ],
 "metadata": {
  "kernelspec": {
   "display_name": "Python 3",
   "language": "python",
   "name": "python3"
  },
  "language_info": {
   "codemirror_mode": {
    "name": "ipython",
    "version": 3
   },
   "file_extension": ".py",
   "mimetype": "text/x-python",
   "name": "python",
   "nbconvert_exporter": "python",
   "pygments_lexer": "ipython3",
   "version": "3.4.3"
  }
 },
 "nbformat": 4,
 "nbformat_minor": 2
}
