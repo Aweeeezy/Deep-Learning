{
 "cells": [
  {
   "cell_type": "markdown",
   "metadata": {},
   "source": [
    "# MNIST Classification with Tensorflow"
   ]
  },
  {
   "cell_type": "markdown",
   "metadata": {},
   "source": [
    "## Import modules, packages, and libraries"
   ]
  },
  {
   "cell_type": "code",
   "execution_count": 1,
   "metadata": {},
   "outputs": [],
   "source": [
    "import time\n",
    "import matplotlib.pyplot as plt\n",
    "import numpy as np\n",
    "import pandas as pd\n",
    "import tensorflow as tf"
   ]
  },
  {
   "cell_type": "markdown",
   "metadata": {},
   "source": [
    "## These are the versions of the modules/packages/libraries used\n",
    "### NOTE: This is to be run with a Python3 kernel\n",
    "```\n",
    "jupyter-notebook --version\n",
    "5.4.0\n",
    "python3 -m ipykernel --version\n",
    "6.2.1\n",
    "python3 -m pip freeze | grep -e numpy -e pandas -e matplotlib -e tensorflow\n",
    "matplotlib==1.5.2\n",
    "numpy==1.14.2\n",
    "pandas==0.22.0\n",
    "tensorflow==1.6.0\n",
    "```"
   ]
  },
  {
   "cell_type": "markdown",
   "metadata": {},
   "source": [
    "## Read in data and split into train and test sets"
   ]
  },
  {
   "cell_type": "code",
   "execution_count": 2,
   "metadata": {},
   "outputs": [],
   "source": [
    "# Read in data from CSV files\n",
    "train = pd.read_csv('ex4_train.csv', index_col=0)\n",
    "test = pd.read_csv('ex4_test.csv', index_col=0)\n",
    "\n",
    "# Split data into train and test sets\n",
    "x_train, y_train = train.iloc[:, :-1].as_matrix(), train.iloc[:, -1].as_matrix()\n",
    "x_test, y_test = test.iloc[:, :-1].as_matrix(), test.iloc[:, -1].as_matrix()"
   ]
  },
  {
   "cell_type": "markdown",
   "metadata": {},
   "source": [
    "## Define constants & functions"
   ]
  },
  {
   "cell_type": "code",
   "execution_count": 3,
   "metadata": {},
   "outputs": [],
   "source": [
    "NUM_ITERS=5\n",
    "PRINT_ITERS=1\n",
    "NUM_CLASSES = 10\n",
    "HIDDEN_NEURONS_1 = 1000\n",
    "HIDDEN_NEURONS_2 = 700\n",
    "LEARNING_RATE = 8e-5\n",
    "\n",
    "def one_hot(y_train, y_test):\n",
    "    \"\"\"\n",
    "        Create one hot encoding of class labels for both train and test data.\n",
    "    \"\"\"\n",
    "    \n",
    "    train_labels = tf.one_hot(indices=y_train, depth=NUM_CLASSES)\n",
    "    test_labels = tf.one_hot(indices=y_test, depth=NUM_CLASSES)\n",
    "\n",
    "    return train_labels, test_labels\n",
    "    \n",
    "def init_placeholders(x_train):\n",
    "    \"\"\"\n",
    "        Create placeholders for the input data and the labels.\n",
    "    \"\"\"\n",
    "    \n",
    "    x_tensor = tf.placeholder(shape=(None, x_train.shape[1]), dtype=tf.float32, name='Input') \n",
    "    y_tensor = tf.placeholder(shape=(None, NUM_CLASSES), dtype=tf.int32, name='Labels')\n",
    "    keep_prob = tf.placeholder(tf.float32)\n",
    "    \n",
    "    return x_tensor, y_tensor, keep_prob\n",
    "\n",
    "def init_params(x_train):\n",
    "    \"\"\"\n",
    "        Initialize the weights using the Xavier method and initialize biases to zero.\n",
    "    \"\"\"\n",
    "    \n",
    "    weight_shapes = [(x_train.shape[1], HIDDEN_NEURONS_1),\n",
    "                 (HIDDEN_NEURONS_1, HIDDEN_NEURONS_2),\n",
    "                 (HIDDEN_NEURONS_2, NUM_CLASSES)]\n",
    "    \n",
    "    bias_shapes = [(1, HIDDEN_NEURONS_1), (1, HIDDEN_NEURONS_2), (1, NUM_CLASSES)]\n",
    "    \n",
    "    W1, W2, W3 = [tf.get_variable(name='W{}'.format(i+1), shape=w, dtype=tf.float32,\n",
    "                                  initializer=tf.contrib.layers.xavier_initializer(seed=1)) \n",
    "                  for i, w in enumerate(weight_shapes)]\n",
    "    \n",
    "    b1, b2, b3 = [tf.get_variable(name='b{}'.format(i+1), shape=b, dtype=tf.float32, \n",
    "                                  initializer=tf.zeros_initializer())\n",
    "                  for i, b in enumerate(bias_shapes)]\n",
    "    \n",
    "    return (W1, W2, W3), (b1, b2, b3)\n",
    "\n",
    "def forward(weights, biases, keep_prob):\n",
    "    \"\"\"\n",
    "        Defines the forward pass computations.\n",
    "    \"\"\"\n",
    "    \n",
    "    W1, W2, W3 = weights\n",
    "    b1, b2, b3 = biases\n",
    "    \n",
    "    a1 = tf.nn.relu(tf.add(tf.matmul(x_tensor, W1), b1), name='Hidden_1')\n",
    "    a1 = tf.nn.dropout(a1, keep_prob, seed=1)\n",
    "    a2 = tf.nn.relu(tf.add(tf.matmul(a1, W2), b2), name='Hidden_2')\n",
    "    a1 = tf.nn.dropout(a2, keep_prob, seed=1)\n",
    "\n",
    "    return tf.nn.sigmoid(tf.add(tf.matmul(a2, W3), b3), name='Output')"
   ]
  },
  {
   "cell_type": "markdown",
   "metadata": {},
   "source": [
    "## Setup computation graph"
   ]
  },
  {
   "cell_type": "code",
   "execution_count": 4,
   "metadata": {},
   "outputs": [
    {
     "name": "stdout",
     "output_type": "stream",
     "text": [
      "WARNING:tensorflow:From /usr/local/lib/python3.5/dist-packages/tensorflow/python/ops/losses/losses_impl.py:731: softmax_cross_entropy_with_logits (from tensorflow.python.ops.nn_ops) is deprecated and will be removed in a future version.\n",
      "Instructions for updating:\n",
      "\n",
      "Future major versions of TensorFlow will allow gradients to flow\n",
      "into the labels input on backprop by default.\n",
      "\n",
      "See tf.nn.softmax_cross_entropy_with_logits_v2.\n",
      "\n"
     ]
    }
   ],
   "source": [
    "# One-hot encode labels\n",
    "one_hot_train, one_hot_test = one_hot(y_train, y_test)\n",
    "\n",
    "# Initialize placeholders for input data and labels\n",
    "x_tensor, y_tensor, keep_prob = init_placeholders(x_train)\n",
    "\n",
    "# Initialize weights and biases\n",
    "weights, biases = init_params(x_train)\n",
    "\n",
    "# Define loss function\n",
    "loss = tf.losses.softmax_cross_entropy(y_tensor, forward(weights, biases, keep_prob))\n",
    "\n",
    "# Define optimizer\n",
    "update = tf.train.AdamOptimizer(LEARNING_RATE).minimize(loss)\n",
    "\n",
    "# Define prediction\n",
    "predict = tf.argmax(forward(weights, biases, keep_prob=1.0), axis=1)\n",
    "\n",
    "# Create initializer for graph variables\n",
    "init = tf.global_variables_initializer()"
   ]
  },
  {
   "cell_type": "markdown",
   "metadata": {},
   "source": [
    "## Train model"
   ]
  },
  {
   "cell_type": "code",
   "execution_count": 5,
   "metadata": {},
   "outputs": [
    {
     "name": "stdout",
     "output_type": "stream",
     "text": [
      "\t\tTrain      Test\n",
      "\n",
      "keep_prob=0.1:\n",
      "\t\t81.57      79.60\n",
      "\t\t84.69      82.20\n",
      "\t\t87.77      85.80\n",
      "\t\t89.54      87.40\n",
      "\t\t90.60      88.73\n",
      "keep_prob=0.2:\n",
      "\t\t92.20      90.13\n",
      "\t\t92.74      90.40\n",
      "\t\t93.69      91.33\n",
      "\t\t94.09      91.20\n",
      "\t\t94.51      91.73\n",
      "keep_prob=0.3:\n",
      "\t\t95.43      92.13\n",
      "\t\t95.74      92.80\n",
      "\t\t95.97      93.07\n",
      "\t\t96.26      92.47\n",
      "\t\t96.66      92.60\n",
      "keep_prob=0.4:\n",
      "\t\t97.03      92.87\n",
      "\t\t97.54      93.53\n",
      "\t\t97.40      93.67\n",
      "\t\t97.80      93.93\n",
      "\t\t97.74      93.60\n",
      "keep_prob=0.5:\n",
      "\t\t98.09      94.20\n",
      "\t\t98.34      94.53\n",
      "\t\t98.09      94.20\n",
      "\t\t98.49      94.40\n",
      "\t\t98.54      94.73\n",
      "keep_prob=0.6:\n",
      "\t\t98.86      94.80\n",
      "\t\t98.77      94.67\n",
      "\t\t99.03      94.67\n",
      "\t\t98.91      94.47\n",
      "\t\t98.94      93.93\n",
      "keep_prob=0.7:\n",
      "\t\t99.03      94.67\n",
      "\t\t99.00      94.87\n",
      "\t\t99.23      94.93\n",
      "\t\t99.00      94.67\n",
      "\t\t99.23      95.00\n",
      "keep_prob=0.8:\n",
      "\t\t99.37      94.67\n",
      "\t\t99.29      95.00\n",
      "\t\t99.37      95.33\n",
      "\t\t99.37      95.27\n",
      "\t\t99.43      94.87\n",
      "keep_prob=0.9:\n",
      "\t\t99.40      95.27\n",
      "\t\t99.29      94.73\n",
      "\t\t99.37      94.73\n",
      "\t\t99.43      94.93\n",
      "\t\t99.43      94.80\n",
      "Training took 703.8163034915924 seconds.\n"
     ]
    }
   ],
   "source": [
    "start = time.time()\n",
    "\n",
    "with tf.Session() as sess: \n",
    "    sess.run(init)\n",
    "       \n",
    "    train_labels = sess.run(one_hot_train)\n",
    "    test_labels = sess.run(one_hot_test)\n",
    "    keep_probs = [x/10.0 for x in range(1, 10)]\n",
    "    \n",
    "    data = []\n",
    "    \n",
    "    print('\\t\\tTrain      Test\\n')\n",
    "    \n",
    "    for k in keep_probs:\n",
    "        \n",
    "        print('keep_prob={}:'.format(k))\n",
    "        \n",
    "        for i in range(NUM_ITERS):\n",
    "            for x, y in zip(x_train, train_labels):\n",
    "                sess.run(update, feed_dict={x_tensor: x.reshape(1, -1), \n",
    "                                            y_tensor: y.reshape(1, -1),\n",
    "                                            keep_prob: k})\n",
    "        \n",
    "            train_accuracy = np.mean(np.argmax(train_labels, axis=1) == \n",
    "                                     sess.run(predict, feed_dict={x_tensor: x_train.reshape(x_train.shape[0], -1), \n",
    "                                                                  y_tensor: train_labels}))\n",
    "            test_accuracy = np.mean(np.argmax(test_labels, axis=1) == \n",
    "                                    sess.run(predict, feed_dict={x_tensor: x_test.reshape(x_test.shape[0], -1),\n",
    "                                                                 y_tensor: test_labels}))\n",
    "                        \n",
    "            if (i+1) % PRINT_ITERS == 0:\n",
    "                print('\\t\\t{:.2f}      {:.2f}'.format(100 * train_accuracy, 100 * test_accuracy))\n",
    "                \n",
    "        data.append((train_accuracy, test_accuracy))\n",
    "       \n",
    "print('Training took {} seconds.'.format(time.time() - start))"
   ]
  },
  {
   "cell_type": "markdown",
   "metadata": {},
   "source": [
    "## Plot test accuracy over dropout's \"keep_prob\" ratio"
   ]
  },
  {
   "cell_type": "code",
   "execution_count": 6,
   "metadata": {},
   "outputs": [
    {
     "data": {
      "text/plain": [
       "<matplotlib.legend.Legend at 0x7f00102d5a90>"
      ]
     },
     "execution_count": 6,
     "metadata": {},
     "output_type": "execute_result"
    },
    {
     "data": {
      "image/png": "[encoded data removed]",
      "text/plain": [
       "<matplotlib.figure.Figure at 0x7f00102d5f28>"
      ]
     },
     "metadata": {},
     "output_type": "display_data"
    }
   ],
   "source": [
    "plt.title('Test Accuracy over Dropout Keep Probability')\n",
    "plt.xlabel('Dropout Keep Probability')\n",
    "plt.ylabel('Test Accuracy')\n",
    "lines = [\n",
    "    plt.plot(keep_probs, [d[0] for d in data], color='#3366CC', linestyle='-', linewidth=4)[0],\n",
    "    plt.plot(keep_probs, [d[1] for d in data], color='#DC3912', linestyle=':', linewidth=2)[0]\n",
    "]\n",
    "plt.legend(lines, ['Train', 'Test'], title='Accuracy', bbox_to_anchor=(0.26, 1))"
   ]
  }
 ],
 "metadata": {
  "kernelspec": {
   "display_name": "Python 3",
   "language": "python",
   "name": "python3"
  },
  "language_info": {
   "codemirror_mode": {
    "name": "ipython",
    "version": 3
   },
   "file_extension": ".py",
   "mimetype": "text/x-python",
   "name": "python",
   "nbconvert_exporter": "python",
   "pygments_lexer": "ipython3",
   "version": "3.5.2"
  }
 },
 "nbformat": 4,
 "nbformat_minor": 2
}
