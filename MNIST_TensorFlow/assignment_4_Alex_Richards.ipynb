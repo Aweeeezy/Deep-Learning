{
 "cells": [
  {
   "cell_type": "markdown",
   "metadata": {
    "deletable": true,
    "editable": true
   },
   "source": [
    "# MNIST Classification with Tensorflow"
   ]
  },
  {
   "cell_type": "markdown",
   "metadata": {
    "deletable": true,
    "editable": true
   },
   "source": [
    "## Import modules, package, libraries"
   ]
  },
  {
   "cell_type": "code",
   "execution_count": 1,
   "metadata": {
    "collapsed": true,
    "deletable": true,
    "editable": true
   },
   "outputs": [],
   "source": [
    "import time\n",
    "import matplotlib.pyplot as plt\n",
    "import numpy as np\n",
    "import pandas as pd\n",
    "import tensorflow as tf"
   ]
  },
  {
   "cell_type": "markdown",
   "metadata": {
    "deletable": true,
    "editable": true
   },
   "source": [
    "## Read in data and split into train and test sets"
   ]
  },
  {
   "cell_type": "code",
   "execution_count": 2,
   "metadata": {
    "collapsed": false,
    "deletable": true,
    "editable": true
   },
   "outputs": [],
   "source": [
    "# Read in data from CSV files\n",
    "train = pd.read_csv('ex4_train.csv', index_col=0)\n",
    "test = pd.read_csv('ex4_test.csv', index_col=0)\n",
    "\n",
    "# Split data into train and test sets\n",
    "x_train, y_train = train.iloc[:, :-1].as_matrix(), train.iloc[:, -1].as_matrix()\n",
    "x_test, y_test = test.iloc[:, :-1].as_matrix(), test.iloc[:, -1].as_matrix()"
   ]
  },
  {
   "cell_type": "markdown",
   "metadata": {
    "deletable": true,
    "editable": true
   },
   "source": [
    "## Define functions for setting up the computation graph & the training process"
   ]
  },
  {
   "cell_type": "code",
   "execution_count": 3,
   "metadata": {
    "collapsed": true,
    "deletable": true,
    "editable": true
   },
   "outputs": [],
   "source": [
    "def one_hot(y_train, y_test):\n",
    "    \"\"\"\n",
    "        Create one hot encoding of class labels for both train and test data.\n",
    "    \"\"\"\n",
    "    \n",
    "    train_labels = tf.one_hot(indices=y_train, depth=NUM_CLASSES)\n",
    "    test_labels = tf.one_hot(indices=y_test, depth=NUM_CLASSES)\n",
    "\n",
    "    return train_labels, test_labels\n",
    "    \n",
    "def init_placeholders(x_train):\n",
    "    \"\"\"\n",
    "        Create placeholders for the input data and the labels.\n",
    "    \"\"\"\n",
    "    \n",
    "    x_tensor = tf.placeholder(shape=(None, x_train.shape[1]), dtype=tf.float32, name='Input') \n",
    "    y_tensor = tf.placeholder(shape=(None, NUM_CLASSES), dtype=tf.int32, name='Labels')\n",
    "    keep_prob = tf.placeholder(tf.float32)\n",
    "    \n",
    "    return x_tensor, y_tensor, keep_prob\n",
    "\n",
    "def init_params(x_train):\n",
    "    \"\"\"\n",
    "        Initialize the weights using the Xavier method and initialize biases to zero.\n",
    "    \"\"\"\n",
    "    \n",
    "    weight_shapes = [(x_train.shape[1], HIDDEN_NEURONS_1),\n",
    "                 (HIDDEN_NEURONS_1, HIDDEN_NEURONS_2),\n",
    "                 (HIDDEN_NEURONS_2, NUM_CLASSES)]\n",
    "    \n",
    "    bias_shapes = [(1, HIDDEN_NEURONS_1), (1, HIDDEN_NEURONS_2), (1, NUM_CLASSES)]\n",
    "    \n",
    "    W1, W2, W3 = [tf.get_variable(name='W{}'.format(i+1), shape=w, dtype=tf.float32,\n",
    "                                  initializer=tf.contrib.layers.xavier_initializer(seed=1)) \n",
    "                  for i, w in enumerate(weight_shapes)]\n",
    "    \n",
    "    b1, b2, b3 = [tf.get_variable(name='b{}'.format(i+1), shape=b, dtype=tf.float32, \n",
    "                                  initializer=tf.zeros_initializer())\n",
    "                  for i, b in enumerate(bias_shapes)]\n",
    "    \n",
    "    return (W1, W2, W3), (b1, b2, b3)\n",
    "\n",
    "def forward(weights, biases, keep_prob):\n",
    "    \"\"\"\n",
    "        Defines the forward pass computations.\n",
    "    \"\"\"\n",
    "    \n",
    "    W1, W2, W3 = weights\n",
    "    b1, b2, b3 = biases\n",
    "    \n",
    "    a1 = tf.nn.relu(tf.add(tf.matmul(x_tensor, W1), b1), name='Hidden_1')\n",
    "    a1 = tf.nn.dropout(a1, keep_prob)\n",
    "    a2 = tf.nn.relu(tf.add(tf.matmul(a1, W2), b2), name='Hidden_2')\n",
    "    a1 = tf.nn.dropout(a2, keep_prob)\n",
    "\n",
    "    return tf.nn.sigmoid(tf.add(tf.matmul(a2, W3), b3), name='Output')"
   ]
  },
  {
   "cell_type": "markdown",
   "metadata": {
    "deletable": true,
    "editable": true
   },
   "source": [
    "## Setup computation graph"
   ]
  },
  {
   "cell_type": "code",
   "execution_count": 4,
   "metadata": {
    "collapsed": false,
    "deletable": true,
    "editable": true
   },
   "outputs": [],
   "source": [
    "NUM_ITERS=500\n",
    "NUM_CLASSES = 10\n",
    "HIDDEN_NEURONS_1 = 25\n",
    "HIDDEN_NEURONS_2 = 25\n",
    "KEEP_PROB = 0.5\n",
    "LEARNING_RATE = 4e-5\n",
    "\n",
    "# One-hot encode labels\n",
    "one_hot_train, one_hot_test = one_hot(y_train, y_test)\n",
    "\n",
    "# Initialize placeholders for input data and labels\n",
    "x_tensor, y_tensor, keep_prob = init_placeholders(x_train)\n",
    "\n",
    "# Initialize weights and biases\n",
    "weights, biases = init_params(x_train)\n",
    "\n",
    "# Define loss function\n",
    "loss = tf.losses.softmax_cross_entropy(y_tensor, forward(weights, biases, keep_prob))\n",
    "\n",
    "# Define optimizer\n",
    "update = tf.train.AdamOptimizer(LEARNING_RATE).minimize(loss)\n",
    "\n",
    "# Define prediction\n",
    "predict = tf.argmax(forward(weights, biases, keep_prob=1.0), axis=1)\n",
    "\n",
    "# Create initializer for graph variables\n",
    "init = tf.global_variables_initializer()"
   ]
  },
  {
   "cell_type": "markdown",
   "metadata": {
    "deletable": true,
    "editable": true
   },
   "source": [
    "## Train model"
   ]
  },
  {
   "cell_type": "code",
   "execution_count": 5,
   "metadata": {
    "collapsed": false,
    "deletable": true,
    "editable": true
   },
   "outputs": [
    {
     "ename": "InternalError",
     "evalue": "Failed to create session.",
     "output_type": "error",
     "traceback": [
      "\u001b[0;31m---------------------------------------------------------------------------\u001b[0m",
      "\u001b[0;31mInternalError\u001b[0m                             Traceback (most recent call last)",
      "\u001b[0;32m<ipython-input-5-91065eb499cd>\u001b[0m in \u001b[0;36m<module>\u001b[0;34m()\u001b[0m\n\u001b[1;32m      1\u001b[0m \u001b[0mstart\u001b[0m \u001b[0;34m=\u001b[0m \u001b[0mtime\u001b[0m\u001b[0;34m.\u001b[0m\u001b[0mtime\u001b[0m\u001b[0;34m(\u001b[0m\u001b[0;34m)\u001b[0m\u001b[0;34m\u001b[0m\u001b[0m\n\u001b[1;32m      2\u001b[0m \u001b[0;34m\u001b[0m\u001b[0m\n\u001b[0;32m----> 3\u001b[0;31m \u001b[0;32mwith\u001b[0m \u001b[0mtf\u001b[0m\u001b[0;34m.\u001b[0m\u001b[0mSession\u001b[0m\u001b[0;34m(\u001b[0m\u001b[0mconfig\u001b[0m\u001b[0;34m=\u001b[0m\u001b[0mtf\u001b[0m\u001b[0;34m.\u001b[0m\u001b[0mConfigProto\u001b[0m\u001b[0;34m(\u001b[0m\u001b[0mdevice_count\u001b[0m\u001b[0;34m=\u001b[0m\u001b[0;34m{\u001b[0m\u001b[0;34m'CPU'\u001b[0m\u001b[0;34m:\u001b[0m \u001b[0;36m0\u001b[0m\u001b[0;34m,\u001b[0m \u001b[0;34m'GPU'\u001b[0m\u001b[0;34m:\u001b[0m \u001b[0;36m1\u001b[0m\u001b[0;34m}\u001b[0m\u001b[0;34m,\u001b[0m \u001b[0mlog_device_placement\u001b[0m\u001b[0;34m=\u001b[0m\u001b[0mTrue\u001b[0m\u001b[0;34m)\u001b[0m\u001b[0;34m)\u001b[0m \u001b[0;32mas\u001b[0m \u001b[0msess\u001b[0m\u001b[0;34m:\u001b[0m\u001b[0;34m\u001b[0m\u001b[0m\n\u001b[0m\u001b[1;32m      4\u001b[0m     \u001b[0msess\u001b[0m\u001b[0;34m.\u001b[0m\u001b[0mrun\u001b[0m\u001b[0;34m(\u001b[0m\u001b[0minit\u001b[0m\u001b[0;34m)\u001b[0m\u001b[0;34m\u001b[0m\u001b[0m\n\u001b[1;32m      5\u001b[0m \u001b[0;34m\u001b[0m\u001b[0m\n",
      "\u001b[0;32m/home/aweeeezy/.local/lib/python2.7/site-packages/tensorflow/python/client/session.pyc\u001b[0m in \u001b[0;36m__init__\u001b[0;34m(self, target, graph, config)\u001b[0m\n\u001b[1;32m   1290\u001b[0m \u001b[0;34m\u001b[0m\u001b[0m\n\u001b[1;32m   1291\u001b[0m     \"\"\"\n\u001b[0;32m-> 1292\u001b[0;31m     \u001b[0msuper\u001b[0m\u001b[0;34m(\u001b[0m\u001b[0mSession\u001b[0m\u001b[0;34m,\u001b[0m \u001b[0mself\u001b[0m\u001b[0;34m)\u001b[0m\u001b[0;34m.\u001b[0m\u001b[0m__init__\u001b[0m\u001b[0;34m(\u001b[0m\u001b[0mtarget\u001b[0m\u001b[0;34m,\u001b[0m \u001b[0mgraph\u001b[0m\u001b[0;34m,\u001b[0m \u001b[0mconfig\u001b[0m\u001b[0;34m=\u001b[0m\u001b[0mconfig\u001b[0m\u001b[0;34m)\u001b[0m\u001b[0;34m\u001b[0m\u001b[0m\n\u001b[0m\u001b[1;32m   1293\u001b[0m     \u001b[0;31m# NOTE(mrry): Create these on first `__enter__` to avoid a reference cycle.\u001b[0m\u001b[0;34m\u001b[0m\u001b[0;34m\u001b[0m\u001b[0m\n\u001b[1;32m   1294\u001b[0m     \u001b[0mself\u001b[0m\u001b[0;34m.\u001b[0m\u001b[0m_default_graph_context_manager\u001b[0m \u001b[0;34m=\u001b[0m \u001b[0mNone\u001b[0m\u001b[0;34m\u001b[0m\u001b[0m\n",
      "\u001b[0;32m/home/aweeeezy/.local/lib/python2.7/site-packages/tensorflow/python/client/session.pyc\u001b[0m in \u001b[0;36m__init__\u001b[0;34m(self, target, graph, config)\u001b[0m\n\u001b[1;32m    560\u001b[0m     \u001b[0;32mtry\u001b[0m\u001b[0;34m:\u001b[0m\u001b[0;34m\u001b[0m\u001b[0m\n\u001b[1;32m    561\u001b[0m       \u001b[0;32mwith\u001b[0m \u001b[0merrors\u001b[0m\u001b[0;34m.\u001b[0m\u001b[0mraise_exception_on_not_ok_status\u001b[0m\u001b[0;34m(\u001b[0m\u001b[0;34m)\u001b[0m \u001b[0;32mas\u001b[0m \u001b[0mstatus\u001b[0m\u001b[0;34m:\u001b[0m\u001b[0;34m\u001b[0m\u001b[0m\n\u001b[0;32m--> 562\u001b[0;31m         \u001b[0mself\u001b[0m\u001b[0;34m.\u001b[0m\u001b[0m_session\u001b[0m \u001b[0;34m=\u001b[0m \u001b[0mtf_session\u001b[0m\u001b[0;34m.\u001b[0m\u001b[0mTF_NewDeprecatedSession\u001b[0m\u001b[0;34m(\u001b[0m\u001b[0mopts\u001b[0m\u001b[0;34m,\u001b[0m \u001b[0mstatus\u001b[0m\u001b[0;34m)\u001b[0m\u001b[0;34m\u001b[0m\u001b[0m\n\u001b[0m\u001b[1;32m    563\u001b[0m     \u001b[0;32mfinally\u001b[0m\u001b[0;34m:\u001b[0m\u001b[0;34m\u001b[0m\u001b[0m\n\u001b[1;32m    564\u001b[0m       \u001b[0mtf_session\u001b[0m\u001b[0;34m.\u001b[0m\u001b[0mTF_DeleteSessionOptions\u001b[0m\u001b[0;34m(\u001b[0m\u001b[0mopts\u001b[0m\u001b[0;34m)\u001b[0m\u001b[0;34m\u001b[0m\u001b[0m\n",
      "\u001b[0;32m/usr/lib/python2.7/contextlib.pyc\u001b[0m in \u001b[0;36m__exit__\u001b[0;34m(self, type, value, traceback)\u001b[0m\n\u001b[1;32m     22\u001b[0m         \u001b[0;32mif\u001b[0m \u001b[0mtype\u001b[0m \u001b[0;32mis\u001b[0m \u001b[0mNone\u001b[0m\u001b[0;34m:\u001b[0m\u001b[0;34m\u001b[0m\u001b[0m\n\u001b[1;32m     23\u001b[0m             \u001b[0;32mtry\u001b[0m\u001b[0;34m:\u001b[0m\u001b[0;34m\u001b[0m\u001b[0m\n\u001b[0;32m---> 24\u001b[0;31m                 \u001b[0mself\u001b[0m\u001b[0;34m.\u001b[0m\u001b[0mgen\u001b[0m\u001b[0;34m.\u001b[0m\u001b[0mnext\u001b[0m\u001b[0;34m(\u001b[0m\u001b[0;34m)\u001b[0m\u001b[0;34m\u001b[0m\u001b[0m\n\u001b[0m\u001b[1;32m     25\u001b[0m             \u001b[0;32mexcept\u001b[0m \u001b[0mStopIteration\u001b[0m\u001b[0;34m:\u001b[0m\u001b[0;34m\u001b[0m\u001b[0m\n\u001b[1;32m     26\u001b[0m                 \u001b[0;32mreturn\u001b[0m\u001b[0;34m\u001b[0m\u001b[0m\n",
      "\u001b[0;32m/home/aweeeezy/.local/lib/python2.7/site-packages/tensorflow/python/framework/errors_impl.pyc\u001b[0m in \u001b[0;36mraise_exception_on_not_ok_status\u001b[0;34m()\u001b[0m\n\u001b[1;32m    464\u001b[0m           \u001b[0mNone\u001b[0m\u001b[0;34m,\u001b[0m \u001b[0mNone\u001b[0m\u001b[0;34m,\u001b[0m\u001b[0;34m\u001b[0m\u001b[0m\n\u001b[1;32m    465\u001b[0m           \u001b[0mcompat\u001b[0m\u001b[0;34m.\u001b[0m\u001b[0mas_text\u001b[0m\u001b[0;34m(\u001b[0m\u001b[0mpywrap_tensorflow\u001b[0m\u001b[0;34m.\u001b[0m\u001b[0mTF_Message\u001b[0m\u001b[0;34m(\u001b[0m\u001b[0mstatus\u001b[0m\u001b[0;34m)\u001b[0m\u001b[0;34m)\u001b[0m\u001b[0;34m,\u001b[0m\u001b[0;34m\u001b[0m\u001b[0m\n\u001b[0;32m--> 466\u001b[0;31m           pywrap_tensorflow.TF_GetCode(status))\n\u001b[0m\u001b[1;32m    467\u001b[0m   \u001b[0;32mfinally\u001b[0m\u001b[0;34m:\u001b[0m\u001b[0;34m\u001b[0m\u001b[0m\n\u001b[1;32m    468\u001b[0m     \u001b[0mpywrap_tensorflow\u001b[0m\u001b[0;34m.\u001b[0m\u001b[0mTF_DeleteStatus\u001b[0m\u001b[0;34m(\u001b[0m\u001b[0mstatus\u001b[0m\u001b[0;34m)\u001b[0m\u001b[0;34m\u001b[0m\u001b[0m\n",
      "\u001b[0;31mInternalError\u001b[0m: Failed to create session."
     ]
    }
   ],
   "source": [
    "start = time.time()\n",
    "\n",
    "with tf.Session(config=tf.ConfigProto(device_count={'CPU': 0, 'GPU': 1}, log_device_placement=True)) as sess: \n",
    "    sess.run(init)\n",
    "       \n",
    "    train_labels = sess.run(one_hot_train)\n",
    "    test_labels = sess.run(one_hot_test)\n",
    "    \n",
    "    for i in range(NUM_ITERS):\n",
    "        for x, y in zip(x_train, train_labels):\n",
    "            sess.run(update, feed_dict={x_tensor: x.reshape(1, -1), \n",
    "                                        y_tensor: y.reshape(1, -1),\n",
    "                                        keep_prob: KEEP_PROB})\n",
    "        \n",
    "        train_accuracy = np.mean(np.argmax(train_labels, axis=1) == \n",
    "                                 sess.run(predict, feed_dict={x_tensor: x_train.reshape(x_train.shape[0], -1), \n",
    "                                                              y_tensor: train_labels}))\n",
    "        test_accuracy = np.mean(np.argmax(test_labels, axis=1) == \n",
    "                                sess.run(predict, feed_dict={x_tensor: x_test.reshape(x_test.shape[0], -1),\n",
    "                                                             y_tensor: test_labels}))\n",
    "        if (i+1) % 10 == 0:\n",
    "            print 'Train accuracy: {:.2f}\\nTest accuracy: {:.2f}\\n'.format(100 * train_accuracy, 100 * test_accuracy)\n",
    "\n",
    "       \n",
    "print 'Training took {} seconds.'.format(time.time() - start)"
   ]
  }
 ],
 "metadata": {
  "kernelspec": {
   "display_name": "Python 2",
   "language": "python",
   "name": "python2"
  },
  "language_info": {
   "codemirror_mode": {
    "name": "ipython",
    "version": 2
   },
   "file_extension": ".py",
   "mimetype": "text/x-python",
   "name": "python",
   "nbconvert_exporter": "python",
   "pygments_lexer": "ipython2",
   "version": "2.7.6"
  }
 },
 "nbformat": 4,
 "nbformat_minor": 2
}
