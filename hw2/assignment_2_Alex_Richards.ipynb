{
 "cells": [
  {
   "cell_type": "markdown",
   "metadata": {},
   "source": [
    "### Import all the necessary modules, packages, and libraries to complete this assignment."
   ]
  },
  {
   "cell_type": "code",
   "execution_count": 1,
   "metadata": {
    "collapsed": true
   },
   "outputs": [],
   "source": [
    "%matplotlib inline\n",
    "%config InlineBackend.print_figure_kwargs={'bbox_inches':None}\n",
    "import matplotlib.pyplot as plt\n",
    "from mpl_toolkits.mplot3d import Axes3D\n",
    "import numpy as np\n",
    "import pandas as pd\n",
    "from time import time\n",
    "from math import sqrt\n",
    "from sklearn import linear_model, model_selection\n",
    "from sklearn.preprocessing import minmax_scale as scale\n",
    "from sklearn.exceptions import DataConversionWarning\n",
    "import warnings\n",
    "warnings.filterwarnings(action='ignore', category=DataConversionWarning)\n",
    "import tensorflow as tf"
   ]
  },
  {
   "cell_type": "markdown",
   "metadata": {},
   "source": [
    "# 1 (30pts) Polynomial regression / overfitting / regularization"
   ]
  },
  {
   "cell_type": "markdown",
   "metadata": {},
   "source": [
    "### Read in first dataset"
   ]
  },
  {
   "cell_type": "code",
   "execution_count": 2,
   "metadata": {
    "collapsed": false
   },
   "outputs": [],
   "source": [
    "data = pd.read_csv('ex2data1.csv')"
   ]
  },
  {
   "cell_type": "markdown",
   "metadata": {},
   "source": [
    "## 1-1 Fit the data using linear (1st order) regression model (matrix form, gradient descent method). Plot the data with the fitted line. Print optimized weights. Print Root Mean Squared Error (RMSE)."
   ]
  },
  {
   "cell_type": "markdown",
   "metadata": {},
   "source": [
    "### Initialize learning rates, data,  labels, and weights; define cost, cost derivative, and weight updating functions"
   ]
  },
  {
   "cell_type": "code",
   "execution_count": 3,
   "metadata": {
    "collapsed": false
   },
   "outputs": [],
   "source": [
    "learning_rates = [0.1, 0.01, 1e-3, 1e-4]\n",
    "\n",
    "X = np.stack([\n",
    "        np.ones((len(data))),\n",
    "        data.iloc[:, 0]],\n",
    "        axis=1)\n",
    "y = np.asmatrix(data.iloc[:, -1]).reshape(len(data), -1)\n",
    "\n",
    "W_init = np.asmatrix(np.array([0., 0.]).reshape(2, -1))\n",
    "W = np.copy(W_init)\n",
    "\n",
    "J = lambda X, y: (1/len(data)) * np.dot((np.dot(X, W) - y).T, np.dot(X, W) - y)\n",
    "dJ_dW = lambda X, y: (2/len(data)) * (np.dot(np.dot(X.T, X), W) - np.dot(X.T, y))\n",
    "\n",
    "def update_weights(W, alpha):\n",
    "    W -= alpha*dJ_dW(X, y)\n",
    "    return W"
   ]
  },
  {
   "cell_type": "markdown",
   "metadata": {},
   "source": [
    "### Define data and model plot functions"
   ]
  },
  {
   "cell_type": "code",
   "execution_count": 4,
   "metadata": {
    "collapsed": true
   },
   "outputs": [],
   "source": [
    "def data_plotter(title):\n",
    "    formatting = {'fontsize': 15, 'weight': 'bold'}\n",
    "    plt.title(title, formatting)\n",
    "    plt.xlabel('X', formatting)\n",
    "    plt.ylabel('Y', formatting, rotation=0)\n",
    "    plt.xlim(min(data.iloc[:, 0]) - (2 * min(data.iloc[:, 0])), \n",
    "             max(data.iloc[:, 0]) + (.1 * max(data.iloc[:, 0])))\n",
    "    plt.ylim(min(data.iloc[:, -1]) - (2 * min(data.iloc[:, 0])), \n",
    "             max(data.iloc[:, -1]) + (.2 * max(data.iloc[:, 0])))\n",
    "    plt.grid(True)\n",
    "    plt.scatter(data.iloc[:, 0], data.iloc[:, -1])\n",
    "\n",
    "def model_plotter(model):\n",
    "    Y_hat = np.array(list(map(model, X[:,1])))\n",
    "    pairs = sorted(zip(data.iloc[:, 0], Y_hat))\n",
    "    plt.plot([p[0] for p in pairs], [p[1] for p in pairs]) "
   ]
  },
  {
   "cell_type": "markdown",
   "metadata": {},
   "source": [
    "### Define learning function"
   ]
  },
  {
   "cell_type": "code",
   "execution_count": 6,
   "metadata": {
    "collapsed": false
   },
   "outputs": [],
   "source": [
    "def train_model(X, y, learning_rates, suppress_results=False, test_split=None):\n",
    "    global W, W_init\n",
    "    print('Initial RMSE: {}'.format(sqrt(float(J(X, y)))))\n",
    "\n",
    "    results = []\n",
    "    for alpha in learning_rates:\n",
    "    \n",
    "        W = np.copy(W_init)\n",
    "        print('Performing gradient descent with a learning rate of {}'.format(alpha))\n",
    "\n",
    "        new_cost, old_cost, start, count = float(J(X, y)), float('inf'), time(), 0\n",
    "        beginning = start\n",
    "        while new_cost < old_cost and abs(old_cost - new_cost) > 1e-5:\n",
    "            old_cost = float(new_cost)\n",
    "            W = update_weights(W, alpha)\n",
    "            new_cost = float(J(X, y))\n",
    "            if time() - start > 3:\n",
    "                print('\\tCost: {}'.format(new_cost))\n",
    "                start = time()\n",
    "            count += 1\n",
    "        end = time()\n",
    "            \n",
    "        print('\\n\\tFinal RMSE: {:{align}{width}} achieved after {time:.2f} seconds {count} iterations\\n'.format( \n",
    "            sqrt(J(X, y)), \n",
    "            align='>', \n",
    "            width=8-len(str(alpha))+len(str(sqrt(J(X, y)))),\n",
    "            time=end-beginning,\n",
    "            count=count))\n",
    "    \n",
    "        if test_split:\n",
    "            results.append([sqrt(J(test_split[0], test_split[1])), alpha, W])\n",
    "        else:\n",
    "            results.append([sqrt(J(X, y)), alpha, W])\n",
    "    \n",
    "    if not suppress_results:\n",
    "        print('\\nThe best model has:\\n\\tRMSE = {}\\n\\tlearning rate = {}\\n\\tW = {}'.format(min(results)[0], min(results)[1], '\\n\\t    '.join([str(float(r)) for r in min(results)[2]]))) \n",
    "    return results"
   ]
  },
  {
   "cell_type": "markdown",
   "metadata": {},
   "source": [
    "### Perform matrix form gradient descent on the first dataset to fit a 1st order linear model"
   ]
  },
  {
   "cell_type": "code",
   "execution_count": 7,
   "metadata": {
    "collapsed": false
   },
   "outputs": [
    {
     "name": "stdout",
     "output_type": "stream",
     "text": [
      "Initial RMSE: 0.7335894087051757\n",
      "Performing gradient descent with a learning rate of 0.1\n",
      "\n",
      "\tFinal RMSE:      0.4766740219858785 achieved after 0.01 seconds 249 iterations\n",
      "\n",
      "Performing gradient descent with a learning rate of 0.01\n",
      "\n",
      "\tFinal RMSE:     0.48070713662629017 achieved after 0.04 seconds 1502 iterations\n",
      "\n",
      "Performing gradient descent with a learning rate of 0.001\n",
      "\n",
      "\tFinal RMSE:    0.5193038157458554 achieved after 0.11 seconds 5142 iterations\n",
      "\n",
      "Performing gradient descent with a learning rate of 0.0001\n",
      "\n",
      "\tFinal RMSE:   0.6061032858949542 achieved after 0.11 seconds 4875 iterations\n",
      "\n",
      "\n",
      "The best model has:\n",
      "\tRMSE = 0.4766740219858785\n",
      "\tlearning rate = 0.1\n",
      "\tW = 1.0348563527735277\n",
      "\t    -1.1151457964875555\n"
     ]
    }
   ],
   "source": [
    "\"\"\"\n",
    "The best model has:\n",
    "    RMSE = 0.4766740219858785\n",
    "    learning rate = 0.1\n",
    "    W = 1.0348563527735277\n",
    "        -1.1151457964875555\n",
    "\"\"\"\n",
    "\n",
    "results = train_model(X, y, learning_rates)"
   ]
  },
  {
   "cell_type": "markdown",
   "metadata": {},
   "source": [
    "### Plot first dataset with the 1st order linear model fit to it"
   ]
  },
  {
   "cell_type": "code",
   "execution_count": 8,
   "metadata": {
    "collapsed": false
   },
   "outputs": [
    {
     "data": {
      "image/png": "[encoded data removed]",
      "text/plain": [
       "<matplotlib.figure.Figure at 0x7f216d62f7b8>"
      ]
     },
     "metadata": {},
     "output_type": "display_data"
    }
   ],
   "source": [
    "data_plotter('Ex2data1 with 1st-order Linear Model')\n",
    "W0, W1 = [float(w) for w in min(results)[-1]]\n",
    "model = lambda x: W0 + W1*x\n",
    "model_plotter(model)"
   ]
  },
  {
   "cell_type": "markdown",
   "metadata": {},
   "source": [
    "## 1-2 Fit the data using 2nd-order polynomial regression model (matrix form, gradient descent method). Plot the data with the fitted line. Print optimized weights. Print Root Mean Squared Error (RMSE). Note: Do not forget feature normalization."
   ]
  },
  {
   "cell_type": "markdown",
   "metadata": {},
   "source": [
    "### Initialize data, labels, and weights"
   ]
  },
  {
   "cell_type": "code",
   "execution_count": 9,
   "metadata": {
    "collapsed": false
   },
   "outputs": [],
   "source": [
    "X = np.stack([\n",
    "        np.ones((len(data))),\n",
    "        scale(data.iloc[:, 0]),\n",
    "        scale(list(map(lambda x: x**2, data.iloc[:, 0])))],\n",
    "        axis=1)\n",
    "y = np.asmatrix(data.iloc[:, -1]).reshape(len(data), -1)\n",
    "\n",
    "W_init = np.asmatrix(np.array([0., 0., 0.]).reshape(-1, 1))\n",
    "W = np.copy(W_init)"
   ]
  },
  {
   "cell_type": "markdown",
   "metadata": {},
   "source": [
    "### Perform matrix form gradient descent on the first dataset to fit a 2nd order polynomial model"
   ]
  },
  {
   "cell_type": "code",
   "execution_count": 10,
   "metadata": {
    "collapsed": false,
    "scrolled": true
   },
   "outputs": [
    {
     "name": "stdout",
     "output_type": "stream",
     "text": [
      "Initial RMSE: 0.7335894087051757\n",
      "Performing gradient descent with a learning rate of 0.1\n",
      "\n",
      "\tFinal RMSE:      0.2990640544013716 achieved after 0.05 seconds 2052 iterations\n",
      "\n",
      "Performing gradient descent with a learning rate of 0.01\n",
      "\n",
      "\tFinal RMSE:     0.3998790687268308 achieved after 0.05 seconds 2482 iterations\n",
      "\n",
      "Performing gradient descent with a learning rate of 0.001\n",
      "\n",
      "\tFinal RMSE:    0.4463382369183588 achieved after 0.11 seconds 4928 iterations\n",
      "\n",
      "Performing gradient descent with a learning rate of 0.0001\n",
      "\n",
      "\tFinal RMSE:   0.5899631357770813 achieved after 0.14 seconds 6317 iterations\n",
      "\n",
      "\n",
      "The best model has:\n",
      "\tRMSE = 0.2990640544013716\n",
      "\tlearning rate = 0.1\n",
      "\tW = 0.5316078954639762\n",
      "\t    2.543096217706851\n",
      "\t    -3.6008283578344193\n"
     ]
    }
   ],
   "source": [
    "\"\"\"\n",
    "The best model has:\n",
    "    RMSE = 0.2990640544013716\n",
    "    learning rate = 0.1\n",
    "    W = 0.5316078954639762\n",
    "        2.543096217706851\n",
    "        -3.6008283578344193\n",
    "\"\"\"\n",
    "\n",
    "results = train_model(X, y, learning_rates)"
   ]
  },
  {
   "cell_type": "markdown",
   "metadata": {},
   "source": [
    "### Plot first dataset with the 2nd order polynomial regression model fit to it"
   ]
  },
  {
   "cell_type": "code",
   "execution_count": 11,
   "metadata": {
    "collapsed": false
   },
   "outputs": [
    {
     "data": {
      "image/png": "[encoded data removed]",
      "text/plain": [
       "<matplotlib.figure.Figure at 0x7f216d5f6c50>"
      ]
     },
     "metadata": {},
     "output_type": "display_data"
    }
   ],
   "source": [
    "data_plotter('Ex2data1 with 2nd-order Polynomial Model')\n",
    "W0, W1, W2 = [float(w) for w in min(results)[-1]]\n",
    "model = lambda x: W0 + W1*x + W2*x**2\n",
    "model_plotter(model)"
   ]
  },
  {
   "cell_type": "markdown",
   "metadata": {},
   "source": [
    "## 1-3 Fit the data using 4th order polynomial regression model (matrix form, gradient descent method). Plot the data with the fitted line. Print optimized weights. Print Root Mean Squared Error (RMSE). Note: Do not forget feature normalization."
   ]
  },
  {
   "cell_type": "markdown",
   "metadata": {},
   "source": [
    "### Initialize data, labels, and weights"
   ]
  },
  {
   "cell_type": "code",
   "execution_count": 12,
   "metadata": {
    "collapsed": true
   },
   "outputs": [],
   "source": [
    "X = np.stack([\n",
    "        np.ones((len(data))),\n",
    "        scale(data.iloc[:, 0]),\n",
    "        scale(list(map(lambda x: x**2, data.iloc[:, 0]))),\n",
    "        scale(list(map(lambda x: x**3, data.iloc[:, 0]))),\n",
    "        scale(list(map(lambda x: x**4, data.iloc[:, 0])))],\n",
    "        axis=1)\n",
    "y = np.asmatrix(data.iloc[:, -1]).reshape(len(data), -1)\n",
    "\n",
    "W_init = np.asmatrix(np.array([0., 0., 0., 0., 0.]).reshape(-1, 1))\n",
    "W = np.copy(W_init)"
   ]
  },
  {
   "cell_type": "markdown",
   "metadata": {},
   "source": [
    "### Perform matrix form gradient descent on the first dataset to fit a 4th order polynomial model"
   ]
  },
  {
   "cell_type": "code",
   "execution_count": 13,
   "metadata": {
    "collapsed": false
   },
   "outputs": [
    {
     "name": "stdout",
     "output_type": "stream",
     "text": [
      "Initial RMSE: 0.7335894087051757\n",
      "Performing gradient descent with a learning rate of 0.1\n",
      "\n",
      "\tFinal RMSE:      0.3005477019509741 achieved after 0.02 seconds 604 iterations\n",
      "\n",
      "Performing gradient descent with a learning rate of 0.01\n",
      "\n",
      "\tFinal RMSE:     0.32609134554076274 achieved after 0.05 seconds 1899 iterations\n",
      "\n",
      "Performing gradient descent with a learning rate of 0.001\n",
      "\n",
      "\tFinal RMSE:    0.37214286194226615 achieved after 0.08 seconds 3964 iterations\n",
      "\n",
      "Performing gradient descent with a learning rate of 0.0001\n",
      "\n",
      "\tFinal RMSE:   0.4938540516332719 achieved after 0.26 seconds 11722 iterations\n",
      "\n",
      "\n",
      "The best model has:\n",
      "\tRMSE = 0.3005477019509741\n",
      "\tlearning rate = 0.1\n",
      "\tW = 0.582929944000473\n",
      "\t    1.0759496505993527\n",
      "\t    -0.2226365235732516\n",
      "\t    -0.9024418036797143\n",
      "\t    -1.2279976702406672\n"
     ]
    }
   ],
   "source": [
    "\"\"\"\n",
    "The best model has:\n",
    "    RMSE = 0.3005477019509741\n",
    "    learning rate = 0.1\n",
    "    W = 0.582929944000473\n",
    "        1.0759496505993527\n",
    "        -0.2226365235732516\n",
    "        -0.9024418036797143\n",
    "        -1.2279976702406672\n",
    "\"\"\"\n",
    "\n",
    "results = train_model(X, y, learning_rates)"
   ]
  },
  {
   "cell_type": "markdown",
   "metadata": {},
   "source": [
    "### Plot first dataset with the 4th order polynomial model fit to it"
   ]
  },
  {
   "cell_type": "code",
   "execution_count": 14,
   "metadata": {
    "collapsed": false
   },
   "outputs": [
    {
     "data": {
      "image/png": "[encoded data removed]",
      "text/plain": [
       "<matplotlib.figure.Figure at 0x7f216d62f748>"
      ]
     },
     "metadata": {},
     "output_type": "display_data"
    }
   ],
   "source": [
    "data_plotter('Ex2data1 with 4th-order Polynomial Model')\n",
    "W0, W1, W2, W3, W4 = [float(w) for w in min(results)[-1]]\n",
    "model = lambda x: W0 + W1*x + W2*x**2 + W3*x**3 + W4*x**4\n",
    "model_plotter(model)"
   ]
  },
  {
   "cell_type": "markdown",
   "metadata": {},
   "source": [
    "## 1-4 Fit the data using 16th order polynomial regression model (matrix form, gradient descent method). Plot the data with the fitted line. Print optimized weights. Print Root Mean Squared Error (RMSE). Note: Do not forget feature normalization."
   ]
  },
  {
   "cell_type": "markdown",
   "metadata": {},
   "source": [
    "### Initialize data, labels, and weights"
   ]
  },
  {
   "cell_type": "code",
   "execution_count": 15,
   "metadata": {
    "collapsed": true
   },
   "outputs": [],
   "source": [
    "X = np.stack([\n",
    "        np.ones(len(data)),\n",
    "        scale(data.iloc[:, 0]),\n",
    "        scale(list(map(lambda x: x**2, data.iloc[:, 0]))),\n",
    "        scale(list(map(lambda x: x**3, data.iloc[:, 0]))),\n",
    "        scale(list(map(lambda x: x**4, data.iloc[:, 0]))),\n",
    "        scale(list(map(lambda x: x**5, data.iloc[:, 0]))),\n",
    "        scale(list(map(lambda x: x**6, data.iloc[:, 0]))),\n",
    "        scale(list(map(lambda x: x**7, data.iloc[:, 0]))),\n",
    "        scale(list(map(lambda x: x**8, data.iloc[:, 0]))),\n",
    "        scale(list(map(lambda x: x**9, data.iloc[:, 0]))),\n",
    "        scale(list(map(lambda x: x**10, data.iloc[:, 0]))),\n",
    "        scale(list(map(lambda x: x**11, data.iloc[:, 0]))),\n",
    "        scale(list(map(lambda x: x**12, data.iloc[:, 0]))),\n",
    "        scale(list(map(lambda x: x**13, data.iloc[:, 0]))),\n",
    "        scale(list(map(lambda x: x**14, data.iloc[:, 0]))),\n",
    "        scale(list(map(lambda x: x**15, data.iloc[:, 0]))),\n",
    "        scale(list(map(lambda x: x**16, data.iloc[:, 0])))],\n",
    "        axis=1)\n",
    "y = np.asmatrix(data.iloc[:, -1]).reshape(len(data), -1)\n",
    "\n",
    "W_init = np.asmatrix(np.array([0., 0., 0., 0., 0., 0., 0., 0., 0., 0., 0., 0., 0., 0., 0., 0., 0.]).reshape(-1, 1))\n",
    "W = np.copy(W_init)"
   ]
  },
  {
   "cell_type": "markdown",
   "metadata": {},
   "source": [
    "### Perform matrix form gradient descent on the first dataset to fit a 16th order polynomial model"
   ]
  },
  {
   "cell_type": "code",
   "execution_count": 16,
   "metadata": {
    "collapsed": false
   },
   "outputs": [
    {
     "name": "stdout",
     "output_type": "stream",
     "text": [
      "Initial RMSE: 0.7335894087051757\n",
      "Performing gradient descent with a learning rate of 0.1\n",
      "\n",
      "\tFinal RMSE:      0.3086079143912908 achieved after 0.02 seconds 651 iterations\n",
      "\n",
      "Performing gradient descent with a learning rate of 0.01\n",
      "\n",
      "\tFinal RMSE:     0.33112371167648186 achieved after 0.01 seconds 362 iterations\n",
      "\n",
      "Performing gradient descent with a learning rate of 0.001\n",
      "\n",
      "\tFinal RMSE:    0.33888556766994343 achieved after 0.05 seconds 2043 iterations\n",
      "\n",
      "Performing gradient descent with a learning rate of 0.0001\n",
      "\n",
      "\tFinal RMSE:   0.3943106601049357 achieved after 0.28 seconds 9905 iterations\n",
      "\n",
      "\n",
      "The best model has:\n",
      "\tRMSE = 0.3086079143912908\n",
      "\tlearning rate = 0.1\n",
      "\tW = 0.613943838861208\n",
      "\t    0.7441499391915972\n",
      "\t    -0.18117241631995182\n",
      "\t    -0.46843320017963214\n",
      "\t    -0.4722378591495171\n",
      "\t    -0.3818489274944494\n",
      "\t    -0.2751600307992868\n",
      "\t    -0.1808922151646224\n",
      "\t    -0.10729145199029261\n",
      "\t    -0.05446227407685552\n",
      "\t    -0.019640775979192355\n",
      "\t    0.0005980015067956635\n",
      "\t    0.009476086981460225\n",
      "\t    0.009731783459828057\n",
      "\t    0.003581925042287819\n",
      "\t    -0.007224500051137728\n",
      "\t    -0.0213272572351831\n"
     ]
    }
   ],
   "source": [
    "\"\"\"\n",
    "The best model has:\n",
    "    RMSE = 0.3086079143912908\n",
    "    learning rate = 0.1\n",
    "    W = 0.613943838861208\n",
    "        0.7441499391915972\n",
    "        -0.18117241631995182\n",
    "        -0.46843320017963214\n",
    "        -0.4722378591495171\n",
    "        -0.3818489274944494\n",
    "        -0.2751600307992868\n",
    "        -0.1808922151646224\n",
    "        -0.10729145199029261\n",
    "        -0.05446227407685552\n",
    "        -0.019640775979192355\n",
    "        0.0005980015067956635\n",
    "        0.009476086981460225\n",
    "        0.009731783459828057\n",
    "        0.003581925042287819\n",
    "        -0.007224500051137728\n",
    "        -0.0213272572351831\n",
    "\"\"\"\n",
    "\n",
    "results = train_model(X, y, learning_rates)"
   ]
  },
  {
   "cell_type": "markdown",
   "metadata": {},
   "source": [
    "### Plot first dataset with the 16th order polynomial model fit to it"
   ]
  },
  {
   "cell_type": "code",
   "execution_count": 17,
   "metadata": {
    "collapsed": false
   },
   "outputs": [
    {
     "data": {
      "image/png": "[encoded data removed]",
      "text/plain": [
       "<matplotlib.figure.Figure at 0x7f216d568048>"
      ]
     },
     "metadata": {},
     "output_type": "display_data"
    }
   ],
   "source": [
    "data_plotter('Ex2data1 with 16th-order Polynomial Model')\n",
    "W0, W1, W2, W3, W4, W5, W6, W7, W8, W9, W10, W11, W12, W13, W14, W15, W16 = [float(w) for w in min(results)[-1]]\n",
    "model = lambda x: W0 + W1*x + W2*x**2 + W3*x**3 + W4*x**4 + W5*x**5 + W6*x**6 + W7*x**7 + W8*x**8 + W9*x**9 \\\n",
    "                + W10*x**10 + W11*x**11 + W12*x**12 + W13*x**13 + W14*x**14 + W15*x**15 + W16*x**16\n",
    "model_plotter(model)"
   ]
  },
  {
   "cell_type": "markdown",
   "metadata": {},
   "source": [
    "## 1-5 Fit the data using 16th order polynomial regression model with ridge (L2 penalty) regularization (matrix form, gradient descent method). You need to try at least 3 different L2 penalty (for example, λ = 0.1, 1, 10). Plot the data with the fitted line. Print optimized weights. Print Root Mean Squared Error (RMSE). Note: Do not forget feature normalization."
   ]
  },
  {
   "cell_type": "markdown",
   "metadata": {},
   "source": [
    "### Split data and labels into training, validation, and testing sets"
   ]
  },
  {
   "cell_type": "code",
   "execution_count": 18,
   "metadata": {
    "collapsed": true
   },
   "outputs": [],
   "source": [
    "X_, X_test, y_, y_test = model_selection.train_test_split(X, y, test_size=0.2, random_state=42)\n",
    "X_train, X_val, y_train, y_val = model_selection.train_test_split(X_, y_, test_size=0.25, random_state=42)"
   ]
  },
  {
   "cell_type": "markdown",
   "metadata": {},
   "source": [
    "### Perform matrix form gradient descent on the first dataset to fit a 16th order polynomial L2 regularized model "
   ]
  },
  {
   "cell_type": "code",
   "execution_count": 19,
   "metadata": {
    "collapsed": false
   },
   "outputs": [
    {
     "name": "stdout",
     "output_type": "stream",
     "text": [
      "Initial RMSE: 0.2688882285003497\n",
      "Performing gradient descent with a learning rate of 0.1\n",
      "\n",
      "\tFinal RMSE:      0.23192771589153094 achieved after 0.00 seconds 30 iterations\n",
      "\n",
      "Performing gradient descent with a learning rate of 0.01\n",
      "\n",
      "\tFinal RMSE:     0.23232452104068327 achieved after 0.01 seconds 238 iterations\n",
      "\n",
      "Performing gradient descent with a learning rate of 0.001\n",
      "\n",
      "\tFinal RMSE:    0.23900655252620112 achieved after 0.04 seconds 1608 iterations\n",
      "\n",
      "Performing gradient descent with a learning rate of 0.0001\n",
      "\n",
      "\tFinal RMSE:   0.30608937810747183 achieved after 0.18 seconds 6898 iterations\n",
      "\n",
      "\n",
      "The best model has:\n",
      "\tRMSE = 0.1609521250764239\n",
      "\tlearning rate = 0.1\n",
      "\tW = 0.6663061089860575\n",
      "\t    0.17167853939515737\n",
      "\t    -0.009037103863303347\n",
      "\t    -0.09251849495183137\n",
      "\t    -0.1281221245785187\n",
      "\t    -0.1417461109721105\n",
      "\t    -0.14514864570512181\n",
      "\t    -0.1438406563899137\n",
      "\t    -0.140485571570787\n",
      "\t    -0.1363841865658078\n",
      "\t    -0.13216447898569877\n",
      "\t    -0.12811681495250357\n",
      "\t    -0.12436154100048111\n",
      "\t    -0.12093424255668264\n",
      "\t    -0.1178295265560659\n",
      "\t    -0.11502355223320132\n",
      "\t    -0.11248554645234127\n"
     ]
    }
   ],
   "source": [
    "results = train_model(X_train, y_train, learning_rates, test_split=(X_test, y_test))"
   ]
  },
  {
   "cell_type": "markdown",
   "metadata": {},
   "source": [
    "### Redefine cost and cost derivative functions to include the L2 regularization term; initialize lambda values"
   ]
  },
  {
   "cell_type": "code",
   "execution_count": 20,
   "metadata": {
    "collapsed": true
   },
   "outputs": [],
   "source": [
    "J = lambda X, y: (1/len(data)) * (np.dot((np.dot(X, W) - y).T, np.dot(X, W) - y) \\\n",
    "        + np.multiply(l, np.dot(W.T, W)))\n",
    "dJ_dW = lambda X, y: (2/len(data)) * (np.dot(np.dot(X.T, X), W) - np.dot(X.T, y) \\\n",
    "        + np.multiply(l, np.dot(np.eye(W.shape[0]), W)))\n",
    "lambdas = [1e-4, 1e-3, .01, .1, 1, 10]"
   ]
  },
  {
   "cell_type": "markdown",
   "metadata": {},
   "source": [
    "### Reinitialize weights to optimal values found during training"
   ]
  },
  {
   "cell_type": "code",
   "execution_count": 21,
   "metadata": {
    "collapsed": false
   },
   "outputs": [],
   "source": [
    "W_init = np.asmatrix(np.array([float(w) for w in min(results)[-1]]).reshape(-1, 1))\n",
    "W = np.copy(W_init)"
   ]
  },
  {
   "cell_type": "markdown",
   "metadata": {},
   "source": [
    "### Retrain model on validation set to find optimal lambda for L2 regularization"
   ]
  },
  {
   "cell_type": "code",
   "execution_count": 23,
   "metadata": {
    "collapsed": false
   },
   "outputs": [
    {
     "name": "stdout",
     "output_type": "stream",
     "text": [
      "Performing gradient descent with an L2 regularization parameter of 0.0001\n",
      "\n",
      "Initial RMSE: 0.21647789772626652\n",
      "Performing gradient descent with a learning rate of 0.1\n",
      "\n",
      "\tFinal RMSE:      0.15492475802417266 achieved after 0.02 seconds 460 iterations\n",
      "\n",
      "Performing gradient descent with an L2 regularization parameter of 0.001\n",
      "\n",
      "Initial RMSE: 0.15505885590929327\n",
      "Performing gradient descent with a learning rate of 0.1\n",
      "\n",
      "\tFinal RMSE:      0.1551833281835424 achieved after 0.03 seconds 457 iterations\n",
      "\n",
      "Performing gradient descent with an L2 regularization parameter of 0.01\n",
      "\n",
      "Initial RMSE: 0.15651021034892632\n",
      "Performing gradient descent with a learning rate of 0.1\n",
      "\n",
      "\tFinal RMSE:      0.15786890916490642 achieved after 0.02 seconds 421 iterations\n",
      "\n",
      "Performing gradient descent with an L2 regularization parameter of 0.1\n",
      "\n",
      "Initial RMSE: 0.16978434802752151\n",
      "Performing gradient descent with a learning rate of 0.1\n",
      "\n",
      "\tFinal RMSE:      0.18104826887655476 achieved after 0.00 seconds 14 iterations\n",
      "\n",
      "Performing gradient descent with an L2 regularization parameter of 1\n",
      "\n",
      "Initial RMSE: 0.23418811025548442\n",
      "Performing gradient descent with a learning rate of 0.1\n",
      "\n",
      "\tFinal RMSE:      0.23094180090561187 achieved after 0.00 seconds 15 iterations\n",
      "\n",
      "Performing gradient descent with an L2 regularization parameter of 10\n",
      "\n",
      "Initial RMSE: 0.5057925529836936\n",
      "Performing gradient descent with a learning rate of 0.1\n",
      "\n",
      "\tFinal RMSE:      0.3809834144595915 achieved after 0.00 seconds 42 iterations\n",
      "\n",
      "\n",
      "The best model has:\n",
      "\tRMSE = 0.1540494501347632\n",
      "\tlearning rate = 0.1\n",
      "\tlambda: 0.0001\n",
      "\tW = 0.6358952591235019\n",
      "\t    0.6219677739001154\n",
      "\t    -0.14612902176818804\n",
      "\t    -0.39606056192602906\n",
      "\t    -0.4114674129026127\n",
      "\t    -0.3454420309914594\n",
      "\t    -0.2620285474529171\n",
      "\t    -0.18560357626432217\n",
      "\t    -0.1238000843601949\n",
      "\t    -0.07743573176604786\n",
      "\t    -0.04480625474240866\n",
      "\t    -0.02351534512504669\n",
      "\t    -0.011214511957475219\n",
      "\t    -0.005862949116504164\n",
      "\t    -0.005782604296740594\n",
      "\t    -0.00963260744496691\n",
      "\t    -0.016357973948309068\n"
     ]
    }
   ],
   "source": [
    "\"\"\"\n",
    "The best model has:\n",
    "    RMSE = 0.1540494501347632\n",
    "    learning rate = 0.1\n",
    "    lambda: 0.0001\n",
    "    W = 0.6358952591235019\n",
    "        0.6219677739001154\n",
    "        -0.14612902176818804\n",
    "        -0.39606056192602906\n",
    "        -0.4114674129026127\n",
    "        -0.3454420309914594\n",
    "        -0.2620285474529171\n",
    "        -0.18560357626432217\n",
    "        -0.1238000843601949\n",
    "        -0.07743573176604786\n",
    "        -0.04480625474240866\n",
    "        -0.02351534512504669\n",
    "        -0.011214511957475219\n",
    "        -0.005862949116504164\n",
    "        -0.005782604296740594\n",
    "        -0.00963260744496691\n",
    "        -0.016357973948309068\n",
    "\"\"\"\n",
    "\n",
    "learning_rate = min(results)[1]\n",
    "reg_results = []\n",
    "for l in lambdas:\n",
    "    print('Performing gradient descent with an L2 regularization parameter of {}\\n'.format(l))\n",
    "    reg_results.append(train_model(X_val, y_val, [learning_rate], suppress_results=True, test_split=(X_test, y_test))[0] + [l])\n",
    "\n",
    "print('\\nThe best model has:\\n\\tRMSE = {}\\n\\tlearning rate = {}\\n\\tlambda: {}\\n\\tW = {}'.format(min(reg_results)[0], min(reg_results)[1], min(reg_results)[3], '\\n\\t    '.join([str(float(r)) for r in min(reg_results)[2]]))) "
   ]
  },
  {
   "cell_type": "markdown",
   "metadata": {},
   "source": [
    "### Plot first dataset with the 16th order polynomial L2 regularized model fit to it"
   ]
  },
  {
   "cell_type": "code",
   "execution_count": 24,
   "metadata": {
    "collapsed": false
   },
   "outputs": [
    {
     "data": {
      "image/png": "[encoded data removed]",
      "text/plain": [
       "<matplotlib.figure.Figure at 0x7f216d414c50>"
      ]
     },
     "metadata": {},
     "output_type": "display_data"
    }
   ],
   "source": [
    "data_plotter('Ex2data1 with 16th-order L2 Regularized Model')\n",
    "W0, W1, W2, W3, W4, W5, W6, W7, W8, W9, W10, W11, W12, W13, W14, W15, W16 = [float(w) for w in min(results)[-1]]\n",
    "model = lambda x: W0 + W1*x + W2*x**2 + W3*x**3 + W4*x**4 + W5*x**5 + W6*x**6 + W7*x**7 + W8*x**8 + W9*x**9 \\\n",
    "                + W10*x**10 + W11*x**11 + W12*x**12 + W13*x**13 + W14*x**14 + W15*x**15 + W16*x**16\n",
    "model_plotter(model)"
   ]
  },
  {
   "cell_type": "markdown",
   "metadata": {},
   "source": [
    "## 1-6 Fit the data using 16th order polynomial regression model with scikit-learn Ridge model. You need to try at least 3 different L2 penalty (for example, λ = 0.1, 1, 10). Plot the data with the fitted line. Print optimized weights. Print Root Mean Squared Error (RMSE)."
   ]
  },
  {
   "cell_type": "markdown",
   "metadata": {
    "deletable": true,
    "editable": true
   },
   "source": [
    "### Initialize data, labels, and weights\n",
    "\n"
   ]
  },
  {
   "cell_type": "code",
   "execution_count": null,
   "metadata": {
    "collapsed": true,
    "deletable": true,
    "editable": true
   },
   "outputs": [],
   "source": []
  },
  {
   "cell_type": "markdown",
   "metadata": {
    "deletable": true,
    "editable": true
   },
   "source": [
    "### Fit the first dataset to a 16th order polynomial L2 regularized model using scikit-learn "
   ]
  },
  {
   "cell_type": "code",
   "execution_count": null,
   "metadata": {
    "collapsed": true,
    "deletable": true,
    "editable": true
   },
   "outputs": [],
   "source": []
  },
  {
   "cell_type": "markdown",
   "metadata": {
    "deletable": true,
    "editable": true
   },
   "source": [
    "### Plot first dataset with the 16th order polynomial L2 regularized model fit to it"
   ]
  },
  {
   "cell_type": "code",
   "execution_count": null,
   "metadata": {
    "collapsed": true,
    "deletable": true,
    "editable": true
   },
   "outputs": [],
   "source": []
  },
  {
   "cell_type": "markdown",
   "metadata": {},
   "source": [
    "## 1-7 Fit the data using 16th order polynomial regression model with scikit-learn Lasso model. You need to try at least 3 different L1 penalty (for example, λ = 0.1, 1, 10). Plot the data with the fitted line. Print optimized weights. Print Root Mean Squared Error (RMSE)."
   ]
  },
  {
   "cell_type": "markdown",
   "metadata": {
    "deletable": true,
    "editable": true
   },
   "source": [
    "### Fit the first dataset to a 16th order polynomial L1 regularized model using scikit-learn "
   ]
  },
  {
   "cell_type": "code",
   "execution_count": null,
   "metadata": {
    "collapsed": true,
    "deletable": true,
    "editable": true
   },
   "outputs": [],
   "source": []
  },
  {
   "cell_type": "markdown",
   "metadata": {
    "deletable": true,
    "editable": true
   },
   "source": [
    "### Plot first dataset with the 16th order polynomial L1 regularized model fit to it"
   ]
  },
  {
   "cell_type": "code",
   "execution_count": null,
   "metadata": {
    "collapsed": true,
    "deletable": true,
    "editable": true
   },
   "outputs": [],
   "source": []
  }
 ],
 "metadata": {
  "kernelspec": {
   "display_name": "Python 3",
   "language": "python",
   "name": "python3"
  },
  "language_info": {
   "codemirror_mode": {
    "name": "ipython",
    "version": 3
   },
   "file_extension": ".py",
   "mimetype": "text/x-python",
   "name": "python",
   "nbconvert_exporter": "python",
   "pygments_lexer": "ipython3",
   "version": "3.4.3"
  }
 },
 "nbformat": 4,
 "nbformat_minor": 2
}
