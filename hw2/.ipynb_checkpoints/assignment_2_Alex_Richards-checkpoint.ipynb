{
 "cells": [
  {
   "cell_type": "markdown",
   "metadata": {},
   "source": [
    "### Import all the necessary modules, packages, and libraries to complete this assignment."
   ]
  },
  {
   "cell_type": "code",
   "execution_count": 9,
   "metadata": {
    "collapsed": true
   },
   "outputs": [],
   "source": [
    "%matplotlib inline\n",
    "%config InlineBackend.print_figure_kwargs={'bbox_inches':None}\n",
    "import matplotlib.pyplot as plt\n",
    "from mpl_toolkits.mplot3d import Axes3D\n",
    "import numpy as np\n",
    "import pandas as pd\n",
    "from time import time\n",
    "from math import sqrt\n",
    "from sklearn import linear_model, model_selection, preprocessing\n",
    "from sklearn.exceptions import DataConversionWarning\n",
    "import warnings\n",
    "warnings.filterwarnings(action='ignore', category=DataConversionWarning)\n",
    "import tensorflow as tf"
   ]
  },
  {
   "cell_type": "markdown",
   "metadata": {},
   "source": [
    "# 1 (30pts) Polynomial regression / overfitting / regularization"
   ]
  },
  {
   "cell_type": "markdown",
   "metadata": {},
   "source": [
    "### Read in first dataset"
   ]
  },
  {
   "cell_type": "code",
   "execution_count": 10,
   "metadata": {
    "collapsed": false
   },
   "outputs": [],
   "source": [
    "data = pd.read_csv('../hw1/ex1data2.csv', header=None)"
   ]
  },
  {
   "cell_type": "markdown",
   "metadata": {},
   "source": [
    "### Initialize learning rates, data, and labels; define cost, derivative, and weight updating function"
   ]
  },
  {
   "cell_type": "code",
   "execution_count": 11,
   "metadata": {
    "collapsed": false
   },
   "outputs": [
    {
     "name": "stdout",
     "output_type": "stream",
     "text": [
      "Initial RMSE: 2483064.4494253467\n",
      "Performing gradient descent with a learning rate of 0.1\n",
      "\n",
      "\tFinal RMSE:      438256.04944477754 achieved after 8581 iterations\n",
      "\n",
      "Performing gradient descent with a learning rate of 0.01\n",
      "\n",
      "\tFinal RMSE:     438256.0494456521 achieved after 76933 iterations\n",
      "\n",
      "Performing gradient descent with a learning rate of 0.001\n",
      "\tCost: 192648518540.6467\n",
      "\tCost: 192070539761.879\n",
      "\tCost: 192068373353.45212\n",
      "\tCost: 192068364908.2607\n",
      "\n",
      "\tFinal RMSE:    438256.0494530507 achieved after 703110 iterations\n",
      "\n",
      "\n",
      "The best model has:\n",
      "\tRMSE = 438256.04944477754\n",
      "\tlearning rate = 0.1\n",
      "\tW = 199467.251253252\n",
      "\t    504777.6341366063\n",
      "\t    -34951.478695117934\n"
     ]
    }
   ],
   "source": [
    "# Initialize learning rates\n",
    "learning_rates = [0.1, 0.01, 1e-3]\n",
    "\n",
    "# Initialize data and labels\n",
    "X = np.stack([\n",
    "        pd.Series([1 for _ in range(len(data))]),\n",
    "        preprocessing.minmax_scale(data[0]),\n",
    "        preprocessing.minmax_scale(data[1])],\n",
    "        axis=1)\n",
    "y = np.asmatrix(data.iloc[:, -1]).reshape(len(data), -1)\n",
    "\n",
    "# Initialize weights\n",
    "W_init = np.asmatrix(np.array([0., 0., 0.]).reshape(3, -1))\n",
    "W = np.copy(W_init)\n",
    "\n",
    "# Define cost, cost derivative, and weight updating functions\n",
    "J = lambda: np.dot((np.dot(X, W) - y).T, np.dot(X, W) - y)\n",
    "dJ_dW = lambda: (1/len(data)) * (np.dot(np.dot(X.T, X), W) - np.dot(X.T, y))\n",
    "\n",
    "def update_weights(W, alpha):\n",
    "    W -= alpha*dJ_dW()\n",
    "    return W"
   ]
  },
  {
   "cell_type": "markdown",
   "metadata": {},
   "source": []
  },
  {
   "cell_type": "code",
   "execution_count": null,
   "metadata": {
    "collapsed": true
   },
   "outputs": [],
   "source": [
    "print('Initial RMSE: {}'.format(sqrt(float(J()))))\n",
    "\n",
    "# Train the model using different learning rates\n",
    "results = []\n",
    "for alpha in learning_rates:\n",
    "    \n",
    "    # Reinitialize weights and regenerate hypothesis\n",
    "    W = np.copy(W_init)\n",
    "    print('Performing gradient descent with a learning rate of {}'.format(alpha))\n",
    "\n",
    "    # Actually train the model\n",
    "    new_cost, old_cost, start, count = J(), float('inf'), time(), 0\n",
    "    while new_cost < old_cost and abs(old_cost - new_cost) > 1e-5:\n",
    "        old_cost = float(new_cost)\n",
    "        W = update_weights(W, alpha)\n",
    "        new_cost = float(J())\n",
    "        if time() - start > 3:\n",
    "            print('\\tCost: {}'.format(new_cost))\n",
    "            start = time()\n",
    "        count += 1\n",
    "            \n",
    "    print('\\n\\tFinal RMSE: {:{align}{width}} achieved after {count} iterations\\n'.format( \n",
    "        sqrt(J()), \n",
    "        align='>', \n",
    "        width=8-len(str(alpha))+len(str(sqrt(J()))),\n",
    "        count=count))\n",
    "    \n",
    "    # Append tuple of variables pertaining to this training run to a list of results \n",
    "    results.append((sqrt(J()), alpha, W))\n",
    "\n",
    "print('\\nThe best model has:\\n\\tRMSE = {}\\n\\tlearning rate = {}\\n\\tW = {}'.format(min(results)[0], min(results)[1], '\\n\\t    '.join([str(float(r)) for r in min(results)[2]]))) "
   ]
  },
  {
   "cell_type": "markdown",
   "metadata": {},
   "source": []
  },
  {
   "cell_type": "code",
   "execution_count": null,
   "metadata": {
    "collapsed": true
   },
   "outputs": [],
   "source": [
    "# Enable embedded interactive figures\n",
    "%matplotlib notebook\n",
    "\n",
    "# Plot data as a scatter plot with the linear model fit to this data\n",
    "fig = plt.figure()\n",
    "ax = fig.add_subplot(111, projection='3d')\n",
    "ax.set_title('Ex1data2 with Model Fit', formatting)\n",
    "ax.set_xlabel('House Size (square feet)', formatting)\n",
    "ax.set_ylabel('Bedrooms', formatting)\n",
    "ax.set_zlabel('House Price', formatting)\n",
    "ax.set_xlim(min(data[0]) - 1, max(data[0]) + 1)\n",
    "ax.set_ylim(min(data[1]) - 1, max(data[1]) + 1)\n",
    "ax.set_zlim(min(data[2]) - 1, max(data[2]) + 1)\n",
    "ax.grid(True)\n",
    "ax.scatter(data[0], data[1], data[2])\n",
    "\n",
    "W0, W1, W2 = min(results)[-3:]\n",
    "model = lambda x, y: W0 + W1*x + W2*y\n",
    "Z_hat = pd.Series(list(map(model, X, Y)))\n",
    "X_grid, Y_grid = np.meshgrid(data[0], data[1])\n",
    "ax.plot_surface(X_grid, Y_grid, Z_hat.values.reshape(-1, len(Z_hat)), \n",
    "                cmap=plt.cm.cool, rstride=1, cstride=1, linewidth=0)\n",
    "ax.view_init(10, 255)"
   ]
  }
 ],
 "metadata": {
  "kernelspec": {
   "display_name": "Python 3",
   "language": "python",
   "name": "python3"
  },
  "language_info": {
   "codemirror_mode": {
    "name": "ipython",
    "version": 3
   },
   "file_extension": ".py",
   "mimetype": "text/x-python",
   "name": "python",
   "nbconvert_exporter": "python",
   "pygments_lexer": "ipython3",
   "version": "3.4.3"
  }
 },
 "nbformat": 4,
 "nbformat_minor": 2
}
